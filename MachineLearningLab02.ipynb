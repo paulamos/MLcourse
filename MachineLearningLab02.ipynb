{
  "nbformat": 4,
  "nbformat_minor": 0,
  "metadata": {
    "colab": {
      "name": "MachineLearningLab02.ipynb",
      "version": "0.3.2",
      "provenance": [],
      "collapsed_sections": [
        "wBebEZ6fik6F",
        "OZtsyigNqbVH",
        "bb4fb0ixqkcB",
        "CCPI_wNlotBl"
      ],
      "toc_visible": true
    },
    "kernelspec": {
      "name": "python3",
      "display_name": "Python 3"
    }
  },
  "cells": [
    {
      "metadata": {
        "id": "7sQ4mXrjxFzj",
        "colab_type": "text"
      },
      "cell_type": "markdown",
      "source": [
        "## Machine learning\n",
        "\n",
        "\n",
        "*   Lab 02 - 12.10.2018\n",
        "*   Lab 03\n",
        "\n"
      ]
    },
    {
      "metadata": {
        "id": "SXHEITv1fpWM",
        "colab_type": "code",
        "colab": {}
      },
      "cell_type": "code",
      "source": [
        "import numpy as np \n",
        "import matplotlib.pyplot as plt"
      ],
      "execution_count": 0,
      "outputs": []
    },
    {
      "metadata": {
        "id": "wBebEZ6fik6F",
        "colab_type": "text"
      },
      "cell_type": "markdown",
      "source": [
        "### Sample file"
      ]
    },
    {
      "metadata": {
        "id": "Nif6GMXDgZZ7",
        "colab_type": "code",
        "colab": {}
      },
      "cell_type": "code",
      "source": [
        "import numpy as np\n",
        "import matplotlib.pyplot as plt\n",
        "import math\n",
        "\n",
        "def sigma(x):\n",
        "    return 1 / (1 + math.exp( -x ))\n",
        "\n",
        "def getFakeNeuralNetOutput(x, y):\n",
        "    firstLayerNeuron1 = sigma(x + 0.01 * y)\n",
        "    firstLayerNeuron2 = sigma(0.01 * x + y)\n",
        "    outputLayer1 = sigma( firstLayerNeuron1 -  firstLayerNeuron2 + 0.3)\n",
        "    outputLayer2 = sigma(-  firstLayerNeuron1 + firstLayerNeuron2 - 0.3)\n",
        "    return [outputLayer1, outputLayer2]\n",
        "\n",
        "def getDecisionOfFakeNeuralNet(x, y):\n",
        "    output = getFakeNeuralNetOutput(x, y)\n",
        "    return 1 if output[1] > output[0] else 0\n",
        "\n",
        "def getSamples(N):\n",
        "    samples = []\n",
        "    for i in range(N):\n",
        "        x = np.random.normal()\n",
        "        y = np.random.normal()\n",
        "        which = 1 if x > 0 and y < 0 else 0\n",
        "        samples.append( (x, y, which) )\n",
        "    return samples\n",
        "\n",
        "def plotDecisionDomain(listOfX, listOfY, decisionFunction):\n",
        "    arrayOfX, arrayOfY = np.meshgrid(listOfX, listOfY)\n",
        "    plt.contourf(arrayOfX, arrayOfY, [[decisionFunction(x, y) for y in listOfY] for x in listOfX])\n",
        "\n",
        "def plotSamples(samples):\n",
        "    markers = ['o', 'x']\n",
        "    colors = ['red', 'gray']\n",
        "    for sample in samples:\n",
        "        plt.scatter(sample[0], sample[1],\n",
        "                    marker = markers[sample[2]], color = colors[sample[2]],\n",
        "                    alpha = 0.5)\n",
        "\n",
        "def getGrid(view):\n",
        "    return [view[0] + (view[1] - view[0]) * i / (view[2] - 1) for i in range(view[2])]\n",
        "\n",
        "numberOfSamples = 300\n",
        "samples = getSamples(numberOfSamples)\n",
        "\n",
        "viewX = [-4, 4, 101]\n",
        "viewY = [-4, 4, 101]\n",
        "\n",
        "plotDecisionDomain(getGrid(viewX), getGrid(viewY), getDecisionOfFakeNeuralNet)\n",
        "plotSamples(samples)\n",
        "plt.show()\n"
      ],
      "execution_count": 0,
      "outputs": []
    },
    {
      "metadata": {
        "id": "OZtsyigNqbVH",
        "colab_type": "text"
      },
      "cell_type": "markdown",
      "source": [
        "#### Testing np dot"
      ]
    },
    {
      "metadata": {
        "id": "ATeJ0RVyagDr",
        "colab_type": "code",
        "colab": {}
      },
      "cell_type": "code",
      "source": [
        "w = np.random.randint(10, size=(2,5))"
      ],
      "execution_count": 0,
      "outputs": []
    },
    {
      "metadata": {
        "id": "T1tHZ-23pmMM",
        "colab_type": "code",
        "colab": {}
      },
      "cell_type": "code",
      "source": [
        "w"
      ],
      "execution_count": 0,
      "outputs": []
    },
    {
      "metadata": {
        "id": "8bGL4yQJppYF",
        "colab_type": "code",
        "colab": {}
      },
      "cell_type": "code",
      "source": [
        "X=[1,2,3,4,5]"
      ],
      "execution_count": 0,
      "outputs": []
    },
    {
      "metadata": {
        "id": "ewqkOqIFptOH",
        "colab_type": "code",
        "colab": {}
      },
      "cell_type": "code",
      "source": [
        "np.dot(w,X)"
      ],
      "execution_count": 0,
      "outputs": []
    },
    {
      "metadata": {
        "id": "aVyXhS11pv-C",
        "colab_type": "code",
        "colab": {}
      },
      "cell_type": "code",
      "source": [
        "np.sum(w*X, axis=1)"
      ],
      "execution_count": 0,
      "outputs": []
    },
    {
      "metadata": {
        "id": "bb4fb0ixqkcB",
        "colab_type": "text"
      },
      "cell_type": "markdown",
      "source": [
        "### Basic Neural Network model"
      ]
    },
    {
      "metadata": {
        "id": "URP68s25wUD0",
        "colab_type": "code",
        "colab": {}
      },
      "cell_type": "code",
      "source": [
        "def initialize_weights(layer_dims):\n",
        "  parameters = {}\n",
        "  L = len(layer_dims)            # number of layers in the network\n",
        "  for l in range(1, L):\n",
        "    parameters['W' + str(l)] = np.random.randn(layer_dims[l], layer_dims[l-1])*0.01\n",
        "  return parameters\n",
        "\n",
        "\n",
        "def sigmoid(x):\n",
        "  return 1 / (1 + np.exp(-x))  \n",
        "\n",
        "  \n",
        "def forward_propagation(X, parameters):\n",
        "  #cache = {}\n",
        "  A = X.copy()\n",
        "  A.append(-1)                       # add bias \n",
        "  L = len(parameters)                # number of layers in the neural network  \n",
        "  for l in range(1, L+1):\n",
        "    #cache['A' + str(l)] = A\n",
        "    W = parameters['W' + str(l)] \n",
        "    Z = np.dot(W, A) \n",
        "    A = sigmoid(Z)\n",
        "    #cache['Z' + str(l)] = A\n",
        "    \n",
        "  return A, Z\n",
        "\n",
        "def predict():\n",
        "  pass\n",
        "\n",
        "\n",
        "def cost_function(output,target):\n",
        "  return 1/len(target)*np.sum((output-target)**2)\n",
        "\n",
        "\n",
        "def update_parametes(L, lerning_rate):\n",
        "  parameters = {}\n",
        "  for l in range(1, L+1):\n",
        "    parameters['W' + str(l)] = parameters['W' + str(l)] - learning_rate * gradients['dW' + str(l)]\n",
        "  return parameters\n",
        "\n",
        "\n",
        "def backward_propagation(L,cache):\n",
        "  gradients = {}\n",
        "  for l in reversed(range(L)):\n",
        "    dZ = sigmoid(x)(1-sigmoid(x))\n",
        "    gradients['dW'+str(l)] = \n",
        "  return gradients\n",
        "\n"
      ],
      "execution_count": 0,
      "outputs": []
    },
    {
      "metadata": {
        "id": "GjeX3tChx-9d",
        "colab_type": "code",
        "colab": {}
      },
      "cell_type": "code",
      "source": [
        "def neural network(X,layers_dims, learning_steps=100):\n",
        "  weights = initialize_weights(layer_dims)\n",
        "  L = len(layers_dims)\n",
        "  for step in range(learning_steps):\n",
        "    A, Z = forward_propagation(X, parameters)\n",
        "    cost = cost_function(output,target)\n",
        "    grads = backward_propagation(L,cache)\n",
        "    weights = update_parametes(L,cache)\n",
        "    \n",
        "  \n",
        "  "
      ],
      "execution_count": 0,
      "outputs": []
    },
    {
      "metadata": {
        "id": "4B-MP9OBr0ir",
        "colab_type": "code",
        "colab": {}
      },
      "cell_type": "code",
      "source": [
        "X = [0.2, 0.4, 0.8, 0.1]\n",
        "Y = [1,0]\n",
        "\n",
        "layers_dims = [len(X)+1, 2, 2] # layer_dims = [input, hidden_layers, output]\n",
        "weights = initialize_weights(layers_dims)\n",
        "output = NN_model_forward(X, weights)"
      ],
      "execution_count": 0,
      "outputs": []
    },
    {
      "metadata": {
        "id": "tLuWDeWIr4cQ",
        "colab_type": "code",
        "colab": {}
      },
      "cell_type": "code",
      "source": [
        ""
      ],
      "execution_count": 0,
      "outputs": []
    },
    {
      "metadata": {
        "id": "pXXFT5vpz3bv",
        "colab_type": "text"
      },
      "cell_type": "markdown",
      "source": [
        "## Coursera"
      ]
    },
    {
      "metadata": {
        "id": "IG5ttVaTU8Ci",
        "colab_type": "code",
        "colab": {}
      },
      "cell_type": "code",
      "source": [
        "def sigmoid(Z):  \n",
        "    A = 1/(1+np.exp(-Z))\n",
        "    cache = Z   \n",
        "    return A, cache\n",
        "\n",
        "def relu(Z):\n",
        "    A = np.maximum(0,Z)\n",
        "    assert(A.shape == Z.shape)\n",
        "    cache = Z \n",
        "    return A, cache\n",
        "\n",
        "def relu_backward(dA, cache):\n",
        "    Z = cache\n",
        "    dZ = np.array(dA, copy=True) # just converting dz to a correct object.\n",
        "    # When z <= 0, you should set dz to 0 as well. \n",
        "    dZ[Z <= 0] = 0\n",
        "    assert (dZ.shape == Z.shape)\n",
        "    return dZ\n",
        "\n",
        "def sigmoid_backward(dA, cache):\n",
        "    Z = cache\n",
        "    s = 1/(1+np.exp(-Z))\n",
        "    dZ = dA * s * (1-s)\n",
        "    assert (dZ.shape == Z.shape)\n",
        "    return dZ"
      ],
      "execution_count": 0,
      "outputs": []
    },
    {
      "metadata": {
        "id": "fNruU1bqz4jy",
        "colab_type": "code",
        "colab": {}
      },
      "cell_type": "code",
      "source": [
        "def L_layer_model(X, Y, layers_dims, learning_rate=0.05, num_iterations=1000, print_cost=False): #lr was 0.009\n",
        "    \"\"\"\n",
        "    Implements a L-layer neural network: [LINEAR->RELU]*(L-1)->LINEAR->SIGMOID.\n",
        "    \n",
        "    Arguments:\n",
        "    X -- data, numpy array of shape (number of examples, input neurons)\n",
        "    Y -- true \"label\" vector (containing 0, 1 values), of shape (1, number of examples)\n",
        "    layers_dims -- list containing the input size and each layer size, of length (number of layers + 1).\n",
        "    learning_rate -- learning rate of the gradient descent update rule\n",
        "    num_iterations -- number of iterations of the optimization loop\n",
        "    print_cost -- if True, it prints the cost\n",
        "    \n",
        "    Returns:\n",
        "    parameters -- parameters learnt by the model. They can then be used to predict.\n",
        "    \"\"\"\n",
        "    costs = []  \n",
        "    \n",
        "    parameters = initialize_parameters_deep(layers_dims)\n",
        "\n",
        "    for i in range(0, num_iterations):\n",
        "        AL, caches = L_model_forward(X, parameters)\n",
        "        cost = compute_cost(AL, Y)\n",
        "        grads = L_model_backward(AL, Y, caches)\n",
        "        parameters = update_parameters(parameters, grads, learning_rate)\n",
        "\n",
        "        if print_cost and i % 100 == 0:\n",
        "            print (\"Cost after iteration %i: %f\" % (i, cost))\n",
        "            costs.append(cost)\n",
        "            \n",
        "    # plot the cost\n",
        "    plt.plot(np.squeeze(costs))\n",
        "    plt.ylabel('cost')\n",
        "    plt.xlabel('iterations (per tens)')\n",
        "    plt.title(\"Learning rate =\" + str(learning_rate))\n",
        "    plt.show()\n",
        "    \n",
        "    return parameters"
      ],
      "execution_count": 0,
      "outputs": []
    },
    {
      "metadata": {
        "id": "AMpkLkpY0bgY",
        "colab_type": "code",
        "colab": {}
      },
      "cell_type": "code",
      "source": [
        "def initialize_parameters_deep(layer_dims):\n",
        "    parameters = {}\n",
        "    L = len(layer_dims)            # number of layers in the network\n",
        "    for l in range(1, L):\n",
        "        parameters['W' + str(l)] = np.random.randn(layer_dims[l], layer_dims[l-1])*0.01 \n",
        "    return parameters"
      ],
      "execution_count": 0,
      "outputs": []
    },
    {
      "metadata": {
        "id": "WUcsB5fOTvrD",
        "colab_type": "code",
        "colab": {}
      },
      "cell_type": "code",
      "source": [
        "def linear_activation_forward(A_prev, W, activation):\n",
        "    \"\"\"\n",
        "    Implement the forward propagation for the LINEAR->ACTIVATION layer\n",
        "    Arguments:\n",
        "    A_prev -- activations from previous layer (or input data): (size of previous layer, number of examples)\n",
        "    W -- weights matrix: numpy array of shape (size of current layer, size of previous layer)\n",
        "    activation -- the activation to be used in this layer, stored as a text string: \"sigmoid\" or \"relu\"\n",
        "    Returns:\n",
        "    A -- the output of the activation function, also called the post-activation value \n",
        "    cache -- a python dictionary containing \"linear_cache\" and \"activation_cache\";\n",
        "             stored for computing the backward pass efficiently\n",
        "    \"\"\"\n",
        "    Z = np.dot(W,A_prev)\n",
        "    linear_cache = (A_prev, W)\n",
        "    if activation == \"sigmoid\":\n",
        "        A, activation_cache = sigmoid(Z)\n",
        "    elif activation == \"relu\":\n",
        "        A, activation_cache = relu(Z)\n",
        "    #print(A.shape)    \n",
        "    cache = (linear_cache, activation_cache)\n",
        "    return A, cache"
      ],
      "execution_count": 0,
      "outputs": []
    },
    {
      "metadata": {
        "id": "mfTMAci_VX9s",
        "colab_type": "code",
        "colab": {}
      },
      "cell_type": "code",
      "source": [
        "def L_model_forward(X, parameters):\n",
        "    \"\"\"\n",
        "    Implement forward propagation for the NN computation   \n",
        "    Arguments:\n",
        "    X -- data, numpy array of shape (input size, number of examples)\n",
        "    parameters -- output of initialize_parameters_deep()  \n",
        "    Returns:\n",
        "    AL -- last post-activation value\n",
        "    caches -- list of caches containing:\n",
        "                every cache of linear_activation_forward() (there are L-1 of them, indexed from 0 to L-1)\n",
        "    \"\"\"\n",
        "    caches = []\n",
        "    A = X\n",
        "    L = len(parameters)                  # number of layers in the neural network\n",
        "    for l in range(1, L):\n",
        "        A, cache = linear_activation_forward(A, parameters['W' + str(l)], activation = \"sigmoid\") \n",
        "        caches.append(cache)       \n",
        "    AL, cache = linear_activation_forward(A, parameters['W' + str(L)], activation = \"sigmoid\") \n",
        "    caches.append(cache)\n",
        "    #print(AL.shape)\n",
        "    #print(X.shape)\n",
        "    #assert(AL.shape == (1,X.shape[1]))           \n",
        "    return AL, caches"
      ],
      "execution_count": 0,
      "outputs": []
    },
    {
      "metadata": {
        "id": "jU55WUuuVoE_",
        "colab_type": "code",
        "colab": {}
      },
      "cell_type": "code",
      "source": [
        "def compute_cost(AL, Y):\n",
        "    \"\"\"\n",
        "    Arguments:\n",
        "    AL -- probability vector corresponding to your label predictions, shape (1, number of examples)\n",
        "    Y -- true \"label\" vector, shape (1, number of examples)\n",
        "    Returns:\n",
        "    cost -- cross-entropy cost\n",
        "    \"\"\" \n",
        "    m = Y.shape[1]\n",
        "    cost = -1/m*np.sum(Y*np.log(AL)+(1-Y)*np.log(1-AL))    \n",
        "    cost = np.squeeze(cost)      # To make sure your cost's shape is what we expect (e.g. this turns [[17]] into 17).\n",
        "    assert(cost.shape == ())   \n",
        "    return cost"
      ],
      "execution_count": 0,
      "outputs": []
    },
    {
      "metadata": {
        "id": "dtnmgbUqWAyB",
        "colab_type": "code",
        "colab": {}
      },
      "cell_type": "code",
      "source": [
        "def linear_backward(dZ, cache):\n",
        "    \"\"\"\n",
        "    Implement the linear portion of backward propagation for a single layer (layer l)\n",
        "\n",
        "    Arguments:\n",
        "    dZ -- Gradient of the cost with respect to the linear output (of current layer l)\n",
        "    cache -- tuple of values (A_prev, W, b) coming from the forward propagation in the current layer\n",
        "\n",
        "    Returns:\n",
        "    dA_prev -- Gradient of the cost with respect to the activation (of the previous layer l-1), same shape as A_prev\n",
        "    dW -- Gradient of the cost with respect to W (current layer l), same shape as W\n",
        "    \"\"\"\n",
        "    A_prev, W = cache\n",
        "    m = A_prev.shape[1]\n",
        "    dW = 1/m*np.dot(dZ, A_prev.T)\n",
        "    dA_prev = np.dot(W.T, dZ)\n",
        "    return dA_prev, dW"
      ],
      "execution_count": 0,
      "outputs": []
    },
    {
      "metadata": {
        "id": "UvIGuMeLWQSe",
        "colab_type": "code",
        "colab": {}
      },
      "cell_type": "code",
      "source": [
        "def linear_activation_backward(dA, cache, activation):\n",
        "    \"\"\"\n",
        "    Implement the backward propagation for the LINEAR->ACTIVATION layer.\n",
        "    \n",
        "    Arguments:\n",
        "    dA -- post-activation gradient for current layer l \n",
        "    cache -- tuple of values (linear_cache, activation_cache) we store for computing backward propagation efficiently\n",
        "    activation -- the activation to be used in this layer, stored as a text string: \"sigmoid\" or \"relu\"\n",
        "    \n",
        "    Returns:\n",
        "    dA_prev -- Gradient of the cost with respect to the activation (of the previous layer l-1), same shape as A_prev\n",
        "    dW -- Gradient of the cost with respect to W (current layer l), same shape as W\n",
        "    \"\"\"\n",
        "    linear_cache, activation_cache = cache \n",
        "    if activation == \"relu\":\n",
        "        dZ = relu_backward(dA, activation_cache)\n",
        "    elif activation == \"sigmoid\":\n",
        "        dZ = sigmoid_backward(dA, activation_cache)\n",
        "    dA_prev, dW = linear_backward(dZ, linear_cache)    \n",
        "    return dA_prev, dW"
      ],
      "execution_count": 0,
      "outputs": []
    },
    {
      "metadata": {
        "id": "uwAh3nzAWmVp",
        "colab_type": "code",
        "colab": {}
      },
      "cell_type": "code",
      "source": [
        "def L_model_backward(AL, Y, caches):\n",
        "    \"\"\"\n",
        "    Implement the backward propagation for the [LINEAR->RELU] * (L-1) -> LINEAR -> SIGMOID group\n",
        "    \n",
        "    Arguments:\n",
        "    AL -- probability vector, output of the forward propagation (L_model_forward())\n",
        "    Y -- true \"label\" vector (containing 0 if non-cat, 1 if cat)\n",
        "    caches -- list of caches containing:\n",
        "                every cache of linear_activation_forward() with \"relu\" (it's caches[l], for l in range(L-1) i.e l = 0...L-2)\n",
        "                the cache of linear_activation_forward() with \"sigmoid\" (it's caches[L-1])\n",
        "    \n",
        "    Returns:\n",
        "    grads -- A dictionary with the gradients\n",
        "             grads[\"dA\" + str(l)] = ... \n",
        "             grads[\"dW\" + str(l)] = ...\n",
        "             grads[\"db\" + str(l)] = ... \n",
        "    \"\"\"\n",
        "    grads = {}\n",
        "    L = len(caches) # the number of layers\n",
        "    m = AL.shape[1]\n",
        "    Y = Y.reshape(AL.shape) # after this line, Y is the same shape as AL  \n",
        "    # Initializing the backpropagation\n",
        "    dAL = - (np.divide(Y, AL) - np.divide(1 - Y, 1 - AL)) \n",
        "    # Inputs: \"dAL, current_cache\". Outputs: \"grads[\"dAL-1\"], grads[\"dWL\"], grads[\"dbL\"]\n",
        "    current_cache = caches[L-1]\n",
        "    grads[\"dA\" + str(L-1)], grads[\"dW\" + str(L)] = linear_activation_backward(dAL, current_cache, activation = \"sigmoid\")\n",
        " \n",
        "    # Loop from l=L-2 to l=0\n",
        "    for l in reversed(range(L-1)):\n",
        "        # lth layer: (RELU -> LINEAR) gradients.\n",
        "        # Inputs: \"grads[\"dA\" + str(l + 1)], current_cache\". Outputs: \"grads[\"dA\" + str(l)] , grads[\"dW\" + str(l + 1)] , grads[\"db\" + str(l + 1)] \n",
        "        current_cache = caches[l]\n",
        "        dA_prev_temp, dW_temp = linear_activation_backward(grads[\"dA\" + str(l+1)], current_cache, activation = \"sigmoid\")\n",
        "        grads[\"dA\" + str(l)] = dA_prev_temp\n",
        "        grads[\"dW\" + str(l + 1)] = dW_temp\n",
        "    return grads"
      ],
      "execution_count": 0,
      "outputs": []
    },
    {
      "metadata": {
        "id": "OPFNgEB-XAfX",
        "colab_type": "code",
        "colab": {}
      },
      "cell_type": "code",
      "source": [
        "def update_parameters(parameters, grads, learning_rate):\n",
        "    L = len(parameters) # number of layers in the neural network\n",
        "    for l in range(L):\n",
        "        parameters[\"W\" + str(l+1)] = parameters[\"W\" + str(l+1)] - learning_rate*grads[\"dW\" + str(l+1)]\n",
        "    return parameters"
      ],
      "execution_count": 0,
      "outputs": []
    },
    {
      "metadata": {
        "id": "QB05bTpJYaU_",
        "colab_type": "code",
        "colab": {}
      },
      "cell_type": "code",
      "source": [
        "def predict(X, y, parameters):\n",
        "    m = X.shape[1]\n",
        "    n = len(parameters)  # number of layers in the neural network\n",
        "    p = np.zeros((1,m))\n",
        "    probas, caches = L_model_forward(X, parameters)   \n",
        "    # convert probas to 0/1 predictions\n",
        "    for i in range(0, probas.shape[1]):\n",
        "        if probas[0,i] > 0.5:\n",
        "            p[0,i] = 1\n",
        "        else:\n",
        "            p[0,i] = 0\n",
        "    print(\"Accuracy: \"  + str(np.sum((p == y)/m)))\n",
        "    return p"
      ],
      "execution_count": 0,
      "outputs": []
    },
    {
      "metadata": {
        "id": "VenocGPkpMP-",
        "colab_type": "text"
      },
      "cell_type": "markdown",
      "source": [
        "## Testing"
      ]
    },
    {
      "metadata": {
        "id": "w9BRT_HDZ0Kh",
        "colab_type": "code",
        "colab": {}
      },
      "cell_type": "code",
      "source": [
        "train_x = np.random.randn(10,15) #(input, liczba przykładów)\n",
        "train_y = np.where(np.mean(train_x,axis=0)<0,0,1)\n",
        "train_y = train_y.reshape(1,15) #(output, liczba przykladow)\n",
        "#train_y = np.random.rand(1,100)"
      ],
      "execution_count": 0,
      "outputs": []
    },
    {
      "metadata": {
        "id": "3kw96VSFKif-",
        "colab_type": "code",
        "colab": {
          "base_uri": "https://localhost:8080/",
          "height": 34
        },
        "outputId": "30ec4dc7-8784-45dd-ceed-f6e7884eacd5"
      },
      "cell_type": "code",
      "source": [
        "train_y"
      ],
      "execution_count": 123,
      "outputs": [
        {
          "output_type": "execute_result",
          "data": {
            "text/plain": [
              "array([[1, 0, 0, 1, 0, 0, 0, 1, 1, 1, 0, 0, 1, 1, 0]])"
            ]
          },
          "metadata": {
            "tags": []
          },
          "execution_count": 123
        }
      ]
    },
    {
      "metadata": {
        "id": "cjTLs8PhZUJv",
        "colab_type": "code",
        "colab": {
          "base_uri": "https://localhost:8080/",
          "height": 546
        },
        "outputId": "a80cd389-a032-4c9c-ff3a-a790c10edcb9"
      },
      "cell_type": "code",
      "source": [
        "layers_dims = [10,  8, 5, 1] \n",
        "parameters = L_layer_model(train_x, train_y, layers_dims, num_iterations = 5000, print_cost = True)"
      ],
      "execution_count": 109,
      "outputs": [
        {
          "output_type": "stream",
          "text": [
            "Cost after iteration 0: 0.694044\n",
            "Cost after iteration 500: 0.690472\n",
            "Cost after iteration 1000: 0.689690\n",
            "Cost after iteration 1500: 0.687126\n",
            "Cost after iteration 2000: 0.672420\n",
            "Cost after iteration 2500: 0.498047\n",
            "Cost after iteration 3000: 0.128028\n",
            "Cost after iteration 3500: 0.051097\n",
            "Cost after iteration 4000: 0.029919\n",
            "Cost after iteration 4500: 0.020752\n"
          ],
          "name": "stdout"
        },
        {
          "output_type": "display_data",
          "data": {
            "image/png": "[encoded data removed]",
            "text/plain": [
              "<matplotlib.figure.Figure at 0x7fa829a09fd0>"
            ]
          },
          "metadata": {
            "tags": []
          }
        }
      ]
    },
    {
      "metadata": {
        "id": "-r2JuvBzJpyo",
        "colab_type": "code",
        "colab": {}
      },
      "cell_type": "code",
      "source": [
        ""
      ],
      "execution_count": 0,
      "outputs": []
    },
    {
      "metadata": {
        "id": "bTtT0Slg3LXg",
        "colab_type": "text"
      },
      "cell_type": "markdown",
      "source": [
        "## Example II"
      ]
    },
    {
      "metadata": {
        "id": "pzwgyhILZzfn",
        "colab_type": "code",
        "colab": {}
      },
      "cell_type": "code",
      "source": [
        "train_x = np.array([[1,1],[1,2],[6,7],[2,4],[0,5],\n",
        "                   [-1,-1],[-2,0],[-7,-5],[-1,-4],[-3,-1]]).T\n",
        "train_y = np.array([[1,1,1,1,1,0,0,0,0,0]])"
      ],
      "execution_count": 0,
      "outputs": []
    },
    {
      "metadata": {
        "id": "sTN5mdd5rHiM",
        "colab_type": "code",
        "colab": {
          "base_uri": "https://localhost:8080/",
          "height": 34
        },
        "outputId": "26b978c9-34dc-4af2-df24-9c9891ff27d6"
      },
      "cell_type": "code",
      "source": [
        "train_y.shape"
      ],
      "execution_count": 73,
      "outputs": [
        {
          "output_type": "execute_result",
          "data": {
            "text/plain": [
              "(1, 10)"
            ]
          },
          "metadata": {
            "tags": []
          },
          "execution_count": 73
        }
      ]
    },
    {
      "metadata": {
        "id": "TSZnogzd1yDT",
        "colab_type": "code",
        "colab": {
          "base_uri": "https://localhost:8080/",
          "height": 34
        },
        "outputId": "cdd7886d-c58c-42d0-8c86-9fc583ede9b1"
      },
      "cell_type": "code",
      "source": [
        "train_y"
      ],
      "execution_count": 74,
      "outputs": [
        {
          "output_type": "execute_result",
          "data": {
            "text/plain": [
              "array([[1, 1, 1, 1, 1, 0, 0, 0, 0, 0]])"
            ]
          },
          "metadata": {
            "tags": []
          },
          "execution_count": 74
        }
      ]
    },
    {
      "metadata": {
        "id": "-2EtGmUkrIlp",
        "colab_type": "code",
        "colab": {
          "base_uri": "https://localhost:8080/",
          "height": 716
        },
        "outputId": "aab8a06c-15be-457c-bd8a-f19078322f76"
      },
      "cell_type": "code",
      "source": [
        "layers_dims = [2,  12, 10, 1] \n",
        "parameters = L_layer_model(train_x, train_y, layers_dims, num_iterations = 2000, print_cost = True)"
      ],
      "execution_count": 75,
      "outputs": [
        {
          "output_type": "stream",
          "text": [
            "Cost after iteration 0: 0.694695\n",
            "Cost after iteration 100: 0.690560\n",
            "Cost after iteration 200: 0.686073\n",
            "Cost after iteration 300: 0.677029\n",
            "Cost after iteration 400: 0.656510\n",
            "Cost after iteration 500: 0.610041\n",
            "Cost after iteration 600: 0.519248\n",
            "Cost after iteration 700: 0.387911\n",
            "Cost after iteration 800: 0.260340\n",
            "Cost after iteration 900: 0.170907\n",
            "Cost after iteration 1000: 0.116589\n",
            "Cost after iteration 1100: 0.083976\n",
            "Cost after iteration 1200: 0.063581\n",
            "Cost after iteration 1300: 0.050149\n",
            "Cost after iteration 1400: 0.040862\n",
            "Cost after iteration 1500: 0.034167\n",
            "Cost after iteration 1600: 0.029167\n",
            "Cost after iteration 1700: 0.025323\n",
            "Cost after iteration 1800: 0.022292\n",
            "Cost after iteration 1900: 0.019854\n"
          ],
          "name": "stdout"
        },
        {
          "output_type": "display_data",
          "data": {
            "image/png": "[encoded data removed]",
            "text/plain": [
              "<matplotlib.figure.Figure at 0x7fa829ad4e48>"
            ]
          },
          "metadata": {
            "tags": []
          }
        }
      ]
    },
    {
      "metadata": {
        "id": "Hmy23qGgrXmh",
        "colab_type": "code",
        "colab": {}
      },
      "cell_type": "code",
      "source": [
        "probas, caches = L_model_forward(train_x, parameters) "
      ],
      "execution_count": 0,
      "outputs": []
    },
    {
      "metadata": {
        "id": "wOZrBrq8rihr",
        "colab_type": "code",
        "colab": {
          "base_uri": "https://localhost:8080/",
          "height": 51
        },
        "outputId": "6f14eea0-e3d0-46e3-ec28-e2ec25419f90"
      },
      "cell_type": "code",
      "source": [
        "probas"
      ],
      "execution_count": 77,
      "outputs": [
        {
          "output_type": "execute_result",
          "data": {
            "text/plain": [
              "array([[0.96937012, 0.97958373, 0.98638475, 0.98549961, 0.98458553,\n",
              "        0.03077387, 0.0281469 , 0.00601253, 0.00780645, 0.0092551 ]])"
            ]
          },
          "metadata": {
            "tags": []
          },
          "execution_count": 77
        }
      ]
    },
    {
      "metadata": {
        "id": "78r8jtjTrjeb",
        "colab_type": "code",
        "colab": {
          "base_uri": "https://localhost:8080/",
          "height": 51
        },
        "outputId": "4c875204-bfcf-41ac-f029-2843e52476cb"
      },
      "cell_type": "code",
      "source": [
        "predict(train_x, train_y,parameters)"
      ],
      "execution_count": 78,
      "outputs": [
        {
          "output_type": "stream",
          "text": [
            "Accuracy: 1.0\n"
          ],
          "name": "stdout"
        },
        {
          "output_type": "execute_result",
          "data": {
            "text/plain": [
              "array([[1., 1., 1., 1., 1., 0., 0., 0., 0., 0.]])"
            ]
          },
          "metadata": {
            "tags": []
          },
          "execution_count": 78
        }
      ]
    },
    {
      "metadata": {
        "id": "6hvDPWm71irc",
        "colab_type": "code",
        "colab": {}
      },
      "cell_type": "code",
      "source": [
        ""
      ],
      "execution_count": 0,
      "outputs": []
    },
    {
      "metadata": {
        "id": "ynipDAr02W1V",
        "colab_type": "code",
        "colab": {}
      },
      "cell_type": "code",
      "source": [
        "layers_dims = [784, 10, 1] \n",
        "parameters = L_layer_model(x.T, train_labels, layers_dims, num_iterations = 1000, print_cost = True)"
      ],
      "execution_count": 0,
      "outputs": []
    },
    {
      "metadata": {
        "id": "CCPI_wNlotBl",
        "colab_type": "text"
      },
      "cell_type": "markdown",
      "source": [
        "## Mnist dataset"
      ]
    },
    {
      "metadata": {
        "id": "t7O-kO6oovhM",
        "colab_type": "text"
      },
      "cell_type": "markdown",
      "source": [
        ""
      ]
    },
    {
      "metadata": {
        "id": "Otm3lsjrowP0",
        "colab_type": "code",
        "outputId": "a9a5acad-1cbb-4228-acff-d1755997ecef",
        "colab": {
          "base_uri": "https://localhost:8080/",
          "height": 122
        }
      },
      "cell_type": "code",
      "source": [
        "!pip install mnist"
      ],
      "execution_count": 112,
      "outputs": [
        {
          "output_type": "stream",
          "text": [
            "Collecting mnist\n",
            "  Downloading https://files.pythonhosted.org/packages/c6/c4/5db3bfe009f8d71f1d532bbadbd0ec203764bba3a469e4703a889db8e5e0/mnist-0.2.2-py2.py3-none-any.whl\n",
            "Requirement already satisfied: numpy in /usr/local/lib/python3.6/dist-packages (from mnist) (1.14.6)\n",
            "Installing collected packages: mnist\n",
            "Successfully installed mnist-0.2.2\n"
          ],
          "name": "stdout"
        }
      ]
    },
    {
      "metadata": {
        "id": "rjIs3_0cnd0p",
        "colab_type": "code",
        "colab": {}
      },
      "cell_type": "code",
      "source": [
        "import mnist\n",
        "import scipy.misc\n",
        "\n",
        "train_images = mnist.train_images()\n",
        "train_labels = mnist.train_labels()\n",
        "\n",
        "test_images = mnist.test_images()\n",
        "test_labels = mnist.test_labels()"
      ],
      "execution_count": 0,
      "outputs": []
    },
    {
      "metadata": {
        "id": "vbkvsvGRozFN",
        "colab_type": "code",
        "outputId": "69a8b55f-8699-4da7-af25-4ffaaa9872a8",
        "colab": {
          "base_uri": "https://localhost:8080/",
          "height": 385
        }
      },
      "cell_type": "code",
      "source": [
        "scipy.misc.toimage(scipy.misc.imresize(train_images[0,:,:] * -1 + 256, 10.))"
      ],
      "execution_count": 180,
      "outputs": [
        {
          "output_type": "stream",
          "text": [
            "/usr/local/lib/python3.6/dist-packages/scipy/misc/pilutil.py:482: FutureWarning: Conversion of the second argument of issubdtype from `int` to `np.signedinteger` is deprecated. In future, it will be treated as `np.int64 == np.dtype(int).type`.\n",
            "  if issubdtype(ts, int):\n",
            "/usr/local/lib/python3.6/dist-packages/scipy/misc/pilutil.py:485: FutureWarning: Conversion of the second argument of issubdtype from `float` to `np.floating` is deprecated. In future, it will be treated as `np.float64 == np.dtype(float).type`.\n",
            "  elif issubdtype(type(size), float):\n"
          ],
          "name": "stderr"
        },
        {
          "output_type": "execute_result",
          "data": {
            "image/png": "[encoded data removed]",
            "text/plain": [
              "<PIL.Image.Image image mode=L size=280x280 at 0x7FA829B468D0>"
            ]
          },
          "metadata": {
            "tags": []
          },
          "execution_count": 180
        }
      ]
    },
    {
      "metadata": {
        "id": "y4eTBSe5pE3C",
        "colab_type": "code",
        "outputId": "0fdd5504-5188-45d7-84cb-747b507b5a08",
        "colab": {
          "base_uri": "https://localhost:8080/",
          "height": 34
        }
      },
      "cell_type": "code",
      "source": [
        "train_images.shape"
      ],
      "execution_count": 115,
      "outputs": [
        {
          "output_type": "execute_result",
          "data": {
            "text/plain": [
              "(60000, 28, 28)"
            ]
          },
          "metadata": {
            "tags": []
          },
          "execution_count": 115
        }
      ]
    },
    {
      "metadata": {
        "id": "AEi3457SoiTV",
        "colab_type": "code",
        "colab": {
          "base_uri": "https://localhost:8080/",
          "height": 34
        },
        "outputId": "e866eb4f-0ac6-453f-89ee-95cc4e984184"
      },
      "cell_type": "code",
      "source": [
        "np.unique(train_labels)"
      ],
      "execution_count": 19,
      "outputs": [
        {
          "output_type": "execute_result",
          "data": {
            "text/plain": [
              "array([0, 1, 2, 3, 4, 5, 6, 7, 8, 9], dtype=uint8)"
            ]
          },
          "metadata": {
            "tags": []
          },
          "execution_count": 19
        }
      ]
    },
    {
      "metadata": {
        "id": "i-1-UTcNi_IV",
        "colab_type": "code",
        "outputId": "2d899231-e64b-402b-f00e-ab06832eb0c2",
        "colab": {
          "base_uri": "https://localhost:8080/",
          "height": 34
        }
      },
      "cell_type": "code",
      "source": [
        "28*28"
      ],
      "execution_count": 20,
      "outputs": [
        {
          "output_type": "execute_result",
          "data": {
            "text/plain": [
              "784"
            ]
          },
          "metadata": {
            "tags": []
          },
          "execution_count": 20
        }
      ]
    },
    {
      "metadata": {
        "id": "5faMltWfL-FK",
        "colab_type": "text"
      },
      "cell_type": "markdown",
      "source": [
        "### Images reshape"
      ]
    },
    {
      "metadata": {
        "id": "5RyabcmHMCCk",
        "colab_type": "code",
        "colab": {
          "base_uri": "https://localhost:8080/",
          "height": 51
        },
        "outputId": "19f389dd-05e5-4b32-f919-f8af87266b9e"
      },
      "cell_type": "code",
      "source": [
        "train_images = mnist.train_images()\n",
        "print(train_images.shape)\n",
        "x_train = train_images.reshape((train_images.shape[0],train_images.shape[1] * train_images.shape[2])).T\n",
        "x_train.shape"
      ],
      "execution_count": 149,
      "outputs": [
        {
          "output_type": "stream",
          "text": [
            "(60000, 28, 28)\n"
          ],
          "name": "stdout"
        },
        {
          "output_type": "execute_result",
          "data": {
            "text/plain": [
              "(784, 60000)"
            ]
          },
          "metadata": {
            "tags": []
          },
          "execution_count": 149
        }
      ]
    },
    {
      "metadata": {
        "id": "ixFVjQFmIuu-",
        "colab_type": "text"
      },
      "cell_type": "markdown",
      "source": [
        "### One-hot encoding"
      ]
    },
    {
      "metadata": {
        "id": "4xO79R19IwmV",
        "colab_type": "code",
        "colab": {}
      },
      "cell_type": "code",
      "source": [
        "# encode\n",
        "train_labels = mnist.train_labels()\n",
        "n_values = 10\n",
        "y_train = np.eye(n_values)[train_labels].T"
      ],
      "execution_count": 0,
      "outputs": []
    },
    {
      "metadata": {
        "id": "AYdeOo_WI1m3",
        "colab_type": "code",
        "colab": {
          "base_uri": "https://localhost:8080/",
          "height": 34
        },
        "outputId": "94802a8e-f4ad-4fa4-e65d-dd8b15110df1"
      },
      "cell_type": "code",
      "source": [
        "y_train.shape"
      ],
      "execution_count": 151,
      "outputs": [
        {
          "output_type": "execute_result",
          "data": {
            "text/plain": [
              "(10, 60000)"
            ]
          },
          "metadata": {
            "tags": []
          },
          "execution_count": 151
        }
      ]
    },
    {
      "metadata": {
        "id": "ZW1PQgaONOQ8",
        "colab_type": "text"
      },
      "cell_type": "markdown",
      "source": [
        "### NN model"
      ]
    },
    {
      "metadata": {
        "id": "sd-Bh7lpLudH",
        "colab_type": "code",
        "colab": {
          "base_uri": "https://localhost:8080/",
          "height": 427
        },
        "outputId": "fe14c1ba-dad6-4fa2-879a-820d3021b042"
      },
      "cell_type": "code",
      "source": [
        "layers_dims = [784,30, 18, 12, 15, 10] \n",
        "parameters = L_layer_model(x_train, y_train, layers_dims, num_iterations = 300, print_cost = True,learning_rate=0.1)"
      ],
      "execution_count": 258,
      "outputs": [
        {
          "output_type": "stream",
          "text": [
            "Cost after iteration 0: 6.907595\n",
            "Cost after iteration 100: 3.249248\n",
            "Cost after iteration 200: 3.249243\n"
          ],
          "name": "stdout"
        },
        {
          "output_type": "display_data",
          "data": {
            "image/png": "[encoded data removed]",
            "text/plain": [
              "<matplotlib.figure.Figure at 0x7fa829873128>"
            ]
          },
          "metadata": {
            "tags": []
          }
        }
      ]
    },
    {
      "metadata": {
        "id": "wZpL0SMjNbQF",
        "colab_type": "code",
        "colab": {
          "base_uri": "https://localhost:8080/",
          "height": 51
        },
        "outputId": "9e1ee9e8-ff31-4f07-ed9e-86cf7dc775ad"
      },
      "cell_type": "code",
      "source": [
        "probas, caches = L_model_forward(x_train, parameters) "
      ],
      "execution_count": 183,
      "outputs": [
        {
          "output_type": "stream",
          "text": [
            "/usr/local/lib/python3.6/dist-packages/ipykernel_launcher.py:2: RuntimeWarning: overflow encountered in exp\n",
            "  \n"
          ],
          "name": "stderr"
        }
      ]
    },
    {
      "metadata": {
        "id": "PdmfRKn5Yoo4",
        "colab_type": "code",
        "colab": {}
      },
      "cell_type": "code",
      "source": [
        "row_maxes = probas.max(axis=0).reshape(1, -1)\n",
        "predicted_vectors = np.where(probas == row_maxes, 1, 0)"
      ],
      "execution_count": 0,
      "outputs": []
    },
    {
      "metadata": {
        "id": "MOHSRne3aBXs",
        "colab_type": "code",
        "colab": {
          "base_uri": "https://localhost:8080/",
          "height": 34
        },
        "outputId": "e188e11d-1e3e-4540-98aa-f6a3ad2a6efc"
      },
      "cell_type": "code",
      "source": [
        "#Accuracy\n",
        "np.mean(np.min(np.equal(predicted_vectors,y_train),axis=0))"
      ],
      "execution_count": 254,
      "outputs": [
        {
          "output_type": "execute_result",
          "data": {
            "text/plain": [
              "0.40731666666666666"
            ]
          },
          "metadata": {
            "tags": []
          },
          "execution_count": 254
        }
      ]
    },
    {
      "metadata": {
        "id": "Lc1lFqorWi2p",
        "colab_type": "code",
        "colab": {}
      },
      "cell_type": "code",
      "source": [
        ""
      ],
      "execution_count": 0,
      "outputs": []
    }
  ]
}