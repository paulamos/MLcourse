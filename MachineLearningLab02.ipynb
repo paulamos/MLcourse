{
  "nbformat": 4,
  "nbformat_minor": 0,
  "metadata": {
    "colab": {
      "name": "MachineLearningLab02.ipynb",
      "version": "0.3.2",
      "provenance": [],
      "collapsed_sections": [
        "wBebEZ6fik6F"
      ],
      "include_colab_link": true
    },
    "kernelspec": {
      "name": "python3",
      "display_name": "Python 3"
    }
  },
  "cells": [
    {
      "cell_type": "markdown",
      "metadata": {
        "id": "view-in-github",
        "colab_type": "text"
      },
      "source": [
        "[View in Colaboratory](https://colab.research.google.com/github/paulamos/MLcourse/blob/master/MachineLearningLab02.ipynb)"
      ]
    },
    {
      "metadata": {
        "id": "SXHEITv1fpWM",
        "colab_type": "code",
        "colab": {}
      },
      "cell_type": "code",
      "source": [
        "import numpy as np "
      ],
      "execution_count": 0,
      "outputs": []
    },
    {
      "metadata": {
        "id": "zcdLy1C-fzYJ",
        "colab_type": "code",
        "colab": {}
      },
      "cell_type": "code",
      "source": [
        "def activation_function(x):\n",
        "  return 1 / (1 + np.exp(-x))"
      ],
      "execution_count": 0,
      "outputs": []
    },
    {
      "metadata": {
        "id": "aQ3ifN4xjnWx",
        "colab_type": "code",
        "colab": {
          "base_uri": "https://localhost:8080/",
          "height": 109
        },
        "outputId": "5f9c6898-9ad0-4a8e-8c05-3093a083ad96"
      },
      "cell_type": "code",
      "source": [
        "np.random.rand(5,2)"
      ],
      "execution_count": 5,
      "outputs": [
        {
          "output_type": "execute_result",
          "data": {
            "text/plain": [
              "array([[0.83487648, 0.55308265],\n",
              "       [0.01882944, 0.86165271],\n",
              "       [0.15216245, 0.7843737 ],\n",
              "       [0.62687451, 0.56717848],\n",
              "       [0.10515579, 0.45417579]])"
            ]
          },
          "metadata": {
            "tags": []
          },
          "execution_count": 5
        }
      ]
    },
    {
      "metadata": {
        "id": "VWjKPw3OoCcR",
        "colab_type": "code",
        "colab": {}
      },
      "cell_type": "code",
      "source": [
        "# testing - integer inputs\n",
        "#input_values = np.random.rand(4)\n",
        "input_values = np.random.randint(10, size=(4,1))\n",
        "output_values = (input_values>5)*1\n",
        "input_values = np.append(input_values,-1)"
      ],
      "execution_count": 0,
      "outputs": []
    },
    {
      "metadata": {
        "id": "jzNb2ikOpa9f",
        "colab_type": "code",
        "colab": {}
      },
      "cell_type": "code",
      "source": [
        "input_values = input_values.reshape((5,1))"
      ],
      "execution_count": 0,
      "outputs": []
    },
    {
      "metadata": {
        "id": "W1wGeVcpknTl",
        "colab_type": "code",
        "colab": {
          "base_uri": "https://localhost:8080/",
          "height": 109
        },
        "outputId": "c5a06dde-7a35-41f5-b78b-2ab2e4792cf9"
      },
      "cell_type": "code",
      "source": [
        "print(input_values)\n",
        "print(output_values)"
      ],
      "execution_count": 45,
      "outputs": [
        {
          "output_type": "stream",
          "text": [
            "[ 9  0  4  7 -1]\n",
            "[[1]\n",
            " [0]\n",
            " [0]\n",
            " [1]]\n"
          ],
          "name": "stdout"
        }
      ]
    },
    {
      "metadata": {
        "id": "pCTR8AFLgTZ1",
        "colab_type": "code",
        "colab": {}
      },
      "cell_type": "code",
      "source": [
        "def initialize_nn_weights(input_values,layers_shape):\n",
        "  weights = {}\n",
        "  weights[\"w0\"] = np.random.rand(len(input_values),layers_shape[0])\n",
        "  for i in range(1,len(layers_shape)):\n",
        "    weights[\"w\"+str(i)]=np.random.randn(layers_shape[i-1],layers_shape[i])\n",
        "  return weights"
      ],
      "execution_count": 0,
      "outputs": []
    },
    {
      "metadata": {
        "id": "1fFUoYzZobD7",
        "colab_type": "code",
        "colab": {}
      },
      "cell_type": "code",
      "source": [
        "def initialize_nn_weights_int(input_values,layers_shape):\n",
        "  weights = {}\n",
        "  weights[\"w0\"] = np.random.rand(len(input_values),layers_shape[0])\n",
        "  for i in range(1,len(layers_shape)):\n",
        "    weights[\"w\"+str(i)]=np.random.randn(layers_shape[i-1],layers_shape[i])\n",
        "  return weights"
      ],
      "execution_count": 0,
      "outputs": []
    },
    {
      "metadata": {
        "id": "mSCkbUCsmVaN",
        "colab_type": "code",
        "colab": {}
      },
      "cell_type": "code",
      "source": [
        "params = initialize_nn_weights(input_values,layers_shape=[2,1])"
      ],
      "execution_count": 0,
      "outputs": []
    },
    {
      "metadata": {
        "id": "WMXu3_rVownw",
        "colab_type": "code",
        "colab": {
          "base_uri": "https://localhost:8080/",
          "height": 127
        },
        "outputId": "0b411f55-0612-425f-8836-cdb6f1e49b7d"
      },
      "cell_type": "code",
      "source": [
        "params"
      ],
      "execution_count": 36,
      "outputs": [
        {
          "output_type": "execute_result",
          "data": {
            "text/plain": [
              "{'w0': array([[0.11764792, 0.23218882],\n",
              "        [0.42313867, 0.90129667],\n",
              "        [0.78569453, 0.17744621],\n",
              "        [0.72630584, 0.02423173],\n",
              "        [0.62580217, 0.71492707]]), 'w1': array([[ 1.977564  ],\n",
              "        [-0.24341915]])}"
            ]
          },
          "metadata": {
            "tags": []
          },
          "execution_count": 36
        }
      ]
    },
    {
      "metadata": {
        "id": "UOd87M3Sp-Nd",
        "colab_type": "code",
        "colab": {
          "base_uri": "https://localhost:8080/",
          "height": 109
        },
        "outputId": "ce9d1869-b5e7-4ca8-8e1a-e650366f3bb0"
      },
      "cell_type": "code",
      "source": [
        "input_values"
      ],
      "execution_count": 52,
      "outputs": [
        {
          "output_type": "execute_result",
          "data": {
            "text/plain": [
              "array([[ 9],\n",
              "       [ 0],\n",
              "       [ 4],\n",
              "       [ 7],\n",
              "       [-1]])"
            ]
          },
          "metadata": {
            "tags": []
          },
          "execution_count": 52
        }
      ]
    },
    {
      "metadata": {
        "id": "U1Tu9RAypJLl",
        "colab_type": "code",
        "colab": {
          "base_uri": "https://localhost:8080/",
          "height": 109
        },
        "outputId": "50c06b80-5efd-47ec-d8e9-9379326404ff"
      },
      "cell_type": "code",
      "source": [
        "params['w0']"
      ],
      "execution_count": 53,
      "outputs": [
        {
          "output_type": "execute_result",
          "data": {
            "text/plain": [
              "array([[0.11764792, 0.23218882],\n",
              "       [0.42313867, 0.90129667],\n",
              "       [0.78569453, 0.17744621],\n",
              "       [0.72630584, 0.02423173],\n",
              "       [0.62580217, 0.71492707]])"
            ]
          },
          "metadata": {
            "tags": []
          },
          "execution_count": 53
        }
      ]
    },
    {
      "metadata": {
        "id": "zi6obJSWpOp2",
        "colab_type": "code",
        "colab": {
          "base_uri": "https://localhost:8080/",
          "height": 109
        },
        "outputId": "cb9ce5f5-6d2d-470f-b422-e8adb01c0c60"
      },
      "cell_type": "code",
      "source": [
        "params['w0']*input_values"
      ],
      "execution_count": 54,
      "outputs": [
        {
          "output_type": "execute_result",
          "data": {
            "text/plain": [
              "array([[ 1.05883128,  2.08969937],\n",
              "       [ 0.        ,  0.        ],\n",
              "       [ 3.14277811,  0.70978482],\n",
              "       [ 5.08414088,  0.16962211],\n",
              "       [-0.62580217, -0.71492707]])"
            ]
          },
          "metadata": {
            "tags": []
          },
          "execution_count": 54
        }
      ]
    },
    {
      "metadata": {
        "id": "6lR03RmhozzV",
        "colab_type": "code",
        "colab": {
          "base_uri": "https://localhost:8080/",
          "height": 35
        },
        "outputId": "d0366930-8b2d-4fd3-98b4-9099f3f95594"
      },
      "cell_type": "code",
      "source": [
        "np.sum(params['w0']*input_values, axis=0)"
      ],
      "execution_count": 59,
      "outputs": [
        {
          "output_type": "execute_result",
          "data": {
            "text/plain": [
              "array([8.65994809, 2.25417924])"
            ]
          },
          "metadata": {
            "tags": []
          },
          "execution_count": 59
        }
      ]
    },
    {
      "metadata": {
        "id": "ukTIvjzQqVq4",
        "colab_type": "code",
        "colab": {}
      },
      "cell_type": "code",
      "source": [
        "layer1_values = activation_function(np.sum(params['w0']*input_values, axis=0))"
      ],
      "execution_count": 0,
      "outputs": []
    },
    {
      "metadata": {
        "id": "hmHgT14gq-29",
        "colab_type": "code",
        "colab": {}
      },
      "cell_type": "code",
      "source": [
        "layer1_values = layer1_values.reshape((2,1))"
      ],
      "execution_count": 0,
      "outputs": []
    },
    {
      "metadata": {
        "id": "a25R9qv4tr-1",
        "colab_type": "code",
        "colab": {
          "base_uri": "https://localhost:8080/",
          "height": 54
        },
        "outputId": "f1dce021-f721-4928-bd4b-4136e3bece0e"
      },
      "cell_type": "code",
      "source": [
        "params['w1']"
      ],
      "execution_count": 66,
      "outputs": [
        {
          "output_type": "execute_result",
          "data": {
            "text/plain": [
              "array([[ 1.977564  ],\n",
              "       [-0.24341915]])"
            ]
          },
          "metadata": {
            "tags": []
          },
          "execution_count": 66
        }
      ]
    },
    {
      "metadata": {
        "id": "-4iu80Tssahh",
        "colab_type": "code",
        "colab": {
          "base_uri": "https://localhost:8080/",
          "height": 54
        },
        "outputId": "2c5c7284-0aa8-4595-935c-61d68170be32"
      },
      "cell_type": "code",
      "source": [
        "params['w1']*layer1_values"
      ],
      "execution_count": 67,
      "outputs": [
        {
          "output_type": "execute_result",
          "data": {
            "text/plain": [
              "array([[ 1.97722116,  1.78971602],\n",
              "       [-0.24337695, -0.22029687]])"
            ]
          },
          "metadata": {
            "tags": []
          },
          "execution_count": 67
        }
      ]
    },
    {
      "metadata": {
        "id": "VC9m3aThrkel",
        "colab_type": "code",
        "colab": {}
      },
      "cell_type": "code",
      "source": [
        ""
      ],
      "execution_count": 0,
      "outputs": []
    },
    {
      "metadata": {
        "id": "wBebEZ6fik6F",
        "colab_type": "text"
      },
      "cell_type": "markdown",
      "source": [
        "### Sample file"
      ]
    },
    {
      "metadata": {
        "id": "Nif6GMXDgZZ7",
        "colab_type": "code",
        "colab": {
          "base_uri": "https://localhost:8080/",
          "height": 351
        },
        "outputId": "aefa81a2-2470-4317-dbcc-070023e87875"
      },
      "cell_type": "code",
      "source": [
        "import numpy as np\n",
        "import matplotlib.pyplot as plt\n",
        "import math\n",
        "\n",
        "def sigma(x):\n",
        "    return 1 / (1 + math.exp( -x ))\n",
        "\n",
        "def getFakeNeuralNetOutput(x, y):\n",
        "    firstLayerNeuron1 = sigma(x + 0.01 * y)\n",
        "    firstLayerNeuron2 = sigma(0.01 * x + y)\n",
        "    outputLayer1 = sigma( firstLayerNeuron1 -  firstLayerNeuron2 + 0.3)\n",
        "    outputLayer2 = sigma(-  firstLayerNeuron1 + firstLayerNeuron2 - 0.3)\n",
        "    return [outputLayer1, outputLayer2]\n",
        "\n",
        "def getDecisionOfFakeNeuralNet(x, y):\n",
        "    output = getFakeNeuralNetOutput(x, y)\n",
        "    return 1 if output[1] > output[0] else 0\n",
        "\n",
        "def getSamples(N):\n",
        "    samples = []\n",
        "    for i in range(N):\n",
        "        x = np.random.normal()\n",
        "        y = np.random.normal()\n",
        "        which = 1 if x > 0 and y < 0 else 0\n",
        "        samples.append( (x, y, which) )\n",
        "    return samples\n",
        "\n",
        "def plotDecisionDomain(listOfX, listOfY, decisionFunction):\n",
        "    arrayOfX, arrayOfY = np.meshgrid(listOfX, listOfY)\n",
        "    plt.contourf(arrayOfX, arrayOfY, [[decisionFunction(x, y) for y in listOfY] for x in listOfX])\n",
        "\n",
        "def plotSamples(samples):\n",
        "    markers = ['o', 'x']\n",
        "    colors = ['red', 'gray']\n",
        "    for sample in samples:\n",
        "        plt.scatter(sample[0], sample[1],\n",
        "                    marker = markers[sample[2]], color = colors[sample[2]],\n",
        "                    alpha = 0.5)\n",
        "\n",
        "def getGrid(view):\n",
        "    return [view[0] + (view[1] - view[0]) * i / (view[2] - 1) for i in range(view[2])]\n",
        "\n",
        "numberOfSamples = 300\n",
        "samples = getSamples(numberOfSamples)\n",
        "\n",
        "viewX = [-4, 4, 101]\n",
        "viewY = [-4, 4, 101]\n",
        "\n",
        "plotDecisionDomain(getGrid(viewX), getGrid(viewY), getDecisionOfFakeNeuralNet)\n",
        "plotSamples(samples)\n",
        "plt.show()\n"
      ],
      "execution_count": 3,
      "outputs": [
        {
          "output_type": "display_data",
          "data": {
            "image/png": "[encoded data removed]",
            "text/plain": [
              "<matplotlib.figure.Figure at 0x7fbe7efcb5c0>"
            ]
          },
          "metadata": {
            "tags": []
          }
        }
      ]
    },
    {
      "metadata": {
        "id": "iL6kJta9gaEx",
        "colab_type": "code",
        "colab": {
          "base_uri": "https://localhost:8080/",
          "height": 5527
        },
        "outputId": "f82cb5ba-8be5-4687-e061-3eb51b8fe393"
      },
      "cell_type": "code",
      "source": [
        "samples"
      ],
      "execution_count": 4,
      "outputs": [
        {
          "output_type": "execute_result",
          "data": {
            "text/plain": [
              "[(0.8651213366177577, 0.3110722159094428, 0),\n",
              " (-0.5627577585311592, 0.5131366889033703, 0),\n",
              " (0.18592371969001006, -0.9174913645873136, 1),\n",
              " (0.780603888077733, 0.32887597624172527, 0),\n",
              " (-0.5187639636324084, 0.025181748802140722, 0),\n",
              " (0.8077129327565202, 1.2721088453462712, 0),\n",
              " (-0.8314657243176642, -1.1482643191426658, 0),\n",
              " (0.09433994239440412, 0.12117300785698645, 0),\n",
              " (0.5452393427400065, 0.952516057777151, 0),\n",
              " (-0.3156068380017167, 0.9282535188526528, 0),\n",
              " (1.2901442541688593, 1.8943182165091317, 0),\n",
              " (0.8698783976893496, 0.9160269466793896, 0),\n",
              " (1.2191485334701366, 0.8935822417791404, 0),\n",
              " (-0.813002101025142, 1.577165145010075, 0),\n",
              " (0.19654098089274893, -0.4369056593925683, 1),\n",
              " (-0.7740184087904917, -0.939313121602096, 0),\n",
              " (-0.9412885792586911, -1.012398015765883, 0),\n",
              " (-0.13753555198764073, 0.4563481495439016, 0),\n",
              " (-0.2829058484988546, 0.6775827357694981, 0),\n",
              " (1.4037608987577814, 0.7306487943234209, 0),\n",
              " (-0.574087283098976, 0.4065974603412104, 0),\n",
              " (1.3733820432948112, -0.21499424346383944, 1),\n",
              " (0.2996085232275611, 0.8349904879416632, 0),\n",
              " (1.6189950627679102, -1.167123621487999, 1),\n",
              " (-0.4788391045627506, -0.5526572978419381, 0),\n",
              " (-0.9184679597717217, -0.8963148302831526, 0),\n",
              " (1.6243926897412622, 3.447653767360991, 0),\n",
              " (1.2016234408784827, 1.125968754900809, 0),\n",
              " (0.04735038724059897, 0.09060878925552496, 0),\n",
              " (0.9544407005874229, 1.1491971809274086, 0),\n",
              " (-0.789518590156372, -1.3907917306802369, 0),\n",
              " (0.044291981138605614, -1.3233476504304, 1),\n",
              " (1.8408701562523984, -0.08001366028131714, 1),\n",
              " (0.6200532430882405, -0.5110622785800728, 1),\n",
              " (0.5700574878473085, -0.11957768001409771, 1),\n",
              " (1.4781833975028014, -0.49186808497844436, 1),\n",
              " (-0.7946725836557628, 0.7211525819765444, 0),\n",
              " (-0.21681898053721171, 1.3458936146848468, 0),\n",
              " (-0.4205629867524823, 0.0626710282199703, 0),\n",
              " (1.1126756434221943, 0.7578241661750496, 0),\n",
              " (1.8499807256506249, 1.3916606695935445, 0),\n",
              " (1.9571377606653926, -1.8222390605817236, 1),\n",
              " (-0.6297008573716022, 0.0874873021680657, 0),\n",
              " (0.17889675012779857, -1.5593866629647803, 1),\n",
              " (-0.5953789028462366, -0.7140867560113663, 0),\n",
              " (0.12326029062257893, -0.32371476329059345, 1),\n",
              " (0.6664547909686622, -0.14559031365064057, 1),\n",
              " (-0.0272581976318276, -0.3187494114105152, 0),\n",
              " (-0.24772842834912637, -0.6565847196233752, 0),\n",
              " (1.140836433882885, 0.9943497251257114, 0),\n",
              " (-1.9874569592750977, 1.349450710855034, 0),\n",
              " (1.6798665106291004, 0.2641900402482332, 0),\n",
              " (0.011596948989230322, -0.036465835590342416, 1),\n",
              " (0.6369304166254455, 1.260245239474237, 0),\n",
              " (-0.34623651903342606, 0.8454048914882624, 0),\n",
              " (-0.12148250637391719, -2.8038943795756612, 0),\n",
              " (-0.8940918765701988, 0.8607805580207614, 0),\n",
              " (-1.4614146238457904, 2.63953853211979, 0),\n",
              " (-1.4717469838685868, 1.6193129060422848, 0),\n",
              " (0.6683783493740244, -0.3211126184256545, 1),\n",
              " (-0.3664749914240933, -0.323046434116279, 0),\n",
              " (-0.07772348246989436, -0.6134827563417953, 0),\n",
              " (0.0649482159726612, -0.31304780266418414, 1),\n",
              " (-1.0773541240066955, 0.6184872388195732, 0),\n",
              " (-1.2588446928706967, -1.1401927623908852, 0),\n",
              " (-3.5175631256912134, -0.22025756979288533, 0),\n",
              " (0.09039580003911218, 1.9905436148951698, 0),\n",
              " (-1.6635546746290213, -0.2720208736397703, 0),\n",
              " (0.6570341343230245, 0.8542373908058106, 0),\n",
              " (0.19117441903045276, 0.02780066865296146, 0),\n",
              " (-0.20948782577118238, 0.5108074067330602, 0),\n",
              " (-1.4761034662898935, 0.7418785906285252, 0),\n",
              " (0.45399251600170604, -0.08930613143288578, 1),\n",
              " (-0.8884758698866045, -0.9174526797532375, 0),\n",
              " (-2.0231177569314456, 1.097124672082879, 0),\n",
              " (-0.43624082906714645, 0.6117814123276315, 0),\n",
              " (0.3119948691532802, 0.8501394500387269, 0),\n",
              " (-0.3135300593645644, 1.639898577303514, 0),\n",
              " (1.2657755821895178, -0.8814399485263081, 1),\n",
              " (0.5284921249836693, -0.0032281875794113683, 1),\n",
              " (2.7633872069741505, -0.12485651743075367, 1),\n",
              " (0.06876167413039981, 0.904941288565756, 0),\n",
              " (-0.08023154243219832, 0.6396741476529282, 0),\n",
              " (0.31861674445174243, -0.5864469784596593, 1),\n",
              " (-0.12894149942773986, 0.24165615560922163, 0),\n",
              " (-0.8250972440657357, -0.7396499729799483, 0),\n",
              " (0.4986723234341854, 0.296357257712076, 0),\n",
              " (0.03726153439599771, 1.892818170432165, 0),\n",
              " (0.4321981417132441, -1.271416930336584, 1),\n",
              " (0.82974124699255, 0.10827370490091476, 0),\n",
              " (1.3760907051203035, 0.4249111451185117, 0),\n",
              " (0.40040117520677876, -0.26349010326133027, 1),\n",
              " (0.32285378153819677, -1.2640885737502885, 1),\n",
              " (0.10719163611407953, -2.4487309486016047, 1),\n",
              " (0.72523604925784, -0.4266683842201302, 1),\n",
              " (-1.1131572328204198, 0.1992632616291532, 0),\n",
              " (-1.6358433512235844, 0.03973159503050094, 0),\n",
              " (0.9028835718102668, -0.8974099197732679, 1),\n",
              " (0.515339751669505, -1.159577898308979, 1),\n",
              " (-0.9487160276310277, 0.6345251319896028, 0),\n",
              " (-0.6931027601602082, 1.0740510874217277, 0),\n",
              " (-0.011637042136751246, -0.46209152513290025, 0),\n",
              " (-1.0631178388528013, 1.0611649879178573, 0),\n",
              " (-0.20384217881489386, 1.3040641752271693, 0),\n",
              " (1.454741169111872, -0.9602089557037411, 1),\n",
              " (1.198891317863196, 1.535048108285679, 0),\n",
              " (-1.2885889109314832, 0.6419631945328178, 0),\n",
              " (0.07342047289846683, 1.1167649985939774, 0),\n",
              " (-0.024084385826679405, 0.18474032122604794, 0),\n",
              " (-0.12224723788136749, 0.4106034033551316, 0),\n",
              " (1.7576893446275057, -0.1157498462332391, 1),\n",
              " (-1.3549608724672633, -0.5405416758475614, 0),\n",
              " (-0.2131599220065021, -0.5396912278196077, 0),\n",
              " (1.367278151501353, -0.07784398346780666, 1),\n",
              " (1.5457178175844593, -0.6262428170015178, 1),\n",
              " (-0.6858373013417469, -1.4383805202173123, 0),\n",
              " (-0.13741450474577904, 0.08523946954584063, 0),\n",
              " (0.2775506490133475, -1.0066452305403364, 1),\n",
              " (0.15310324714784554, 0.5452793464865412, 0),\n",
              " (0.8483205781003488, 1.9873188530608359, 0),\n",
              " (-1.3541241555107444, -0.5176818498562277, 0),\n",
              " (0.7270967528264066, 1.5706954939739652, 0),\n",
              " (-1.3989895634440535, 0.5678669721824637, 0),\n",
              " (-0.34864323219163457, 0.40879085282491245, 0),\n",
              " (-2.2943305400503906, -0.4818455658575792, 0),\n",
              " (1.772434748468684, 0.8264690276471144, 0),\n",
              " (-0.5276862915598005, 1.3359298143751623, 0),\n",
              " (-1.140929708873335, 0.39493268717678576, 0),\n",
              " (1.4199071690291105, 0.5253554319692485, 0),\n",
              " (0.7124673559873279, -0.09818381157238838, 1),\n",
              " (0.3731495843279865, -0.554959769411075, 1),\n",
              " (0.31260511019312004, 0.321579093912929, 0),\n",
              " (-0.24162813559406968, 2.4752319677467103, 0),\n",
              " (0.9011575455480371, -1.2535855066759711, 1),\n",
              " (0.3980360592430693, 0.07372519458647765, 0),\n",
              " (-0.6850310639827077, 0.6708837919185874, 0),\n",
              " (0.008430816027319972, -0.34167058534636824, 1),\n",
              " (1.2782009525615528, -0.5044130737770641, 1),\n",
              " (-0.36004339550616515, 0.5211912177377717, 0),\n",
              " (-0.4277341199091122, 1.8081726078204108, 0),\n",
              " (-1.0457842161076478, -0.5821551398025931, 0),\n",
              " (-0.0380032884293615, 0.5714172501934975, 0),\n",
              " (-0.4309131386043625, 1.084925036910856, 0),\n",
              " (0.45105136687986086, -0.3021615005760579, 1),\n",
              " (1.7800097043057654, -0.9452070827581246, 1),\n",
              " (-0.8276838695407367, 0.10895891366441218, 0),\n",
              " (-0.5047664132428495, 0.79145857053443, 0),\n",
              " (-0.4104846468682791, 0.08039784694418471, 0),\n",
              " (-0.3418187473539055, 0.33888682194239156, 0),\n",
              " (-0.7140243925285743, 1.110677554256336, 0),\n",
              " (0.17569495946774608, 0.4741753353104311, 0),\n",
              " (-0.09266593403446137, -0.45038011018226737, 0),\n",
              " (-0.4095901006981734, 1.9463384916711093, 0),\n",
              " (-1.381545425724998, 0.7441359710504661, 0),\n",
              " (-1.087419751279626, 1.158060381748273, 0),\n",
              " (0.6543363664505736, 1.4114165546562991, 0),\n",
              " (-0.6554063503791189, -0.4910282648648888, 0),\n",
              " (0.8419567561181668, -2.164723005575743, 1),\n",
              " (-0.4256502978905204, 0.4903162595014233, 0),\n",
              " (-1.8256863650593458, 1.510902756336848, 0),\n",
              " (-0.9703706263269941, 1.09962431947943, 0),\n",
              " (-1.7458147554853538, -0.49707587738878134, 0),\n",
              " (1.6394660249988797, -0.9147380613743323, 1),\n",
              " (-0.41069840928988194, -1.969016402115413, 0),\n",
              " (-1.3184759799755066, 0.3130083294559657, 0),\n",
              " (-1.2190887999816937, 1.3184264826794563, 0),\n",
              " (1.4277112847694933, 0.0835790329002346, 0),\n",
              " (0.31544943310937196, 0.768432109668302, 0),\n",
              " (1.4935031266130123, 0.6353888615027833, 0),\n",
              " (-0.8923832297728708, 0.3249220750162498, 0),\n",
              " (-0.023894392842287848, 0.321988797105311, 0),\n",
              " (0.439031053904625, -0.8554321765057568, 1),\n",
              " (-0.28991955413492027, 1.0728830576984814, 0),\n",
              " (1.2758784409471051, -0.611162978630137, 1),\n",
              " (-0.3395818621691404, -0.3111440425696808, 0),\n",
              " (0.25049356080266744, 0.5183424409447538, 0),\n",
              " (2.0548017807407706, 0.7497965271036939, 0),\n",
              " (-1.026163922814923, -0.28059572268735655, 0),\n",
              " (-0.4276123954448832, 0.9911156620318881, 0),\n",
              " (0.8882198677523827, 1.1672854022345913, 0),\n",
              " (0.9919219540258755, -1.3217517064601916, 1),\n",
              " (-0.6318693407499478, -0.4853122036078812, 0),\n",
              " (-0.524820186483749, -0.6229888867096302, 0),\n",
              " (-0.909951297604669, -0.259978808473563, 0),\n",
              " (-2.8293407379265556, -0.14545587525238007, 0),\n",
              " (-0.8657221970815736, -0.8747837126065514, 0),\n",
              " (-1.3039129019409932, 0.0784399719183885, 0),\n",
              " (1.8278683730666503, 0.4352057689846688, 0),\n",
              " (0.5254657851985625, 1.846624417256172, 0),\n",
              " (1.107815609711006, -0.8259272868670611, 1),\n",
              " (0.4497918179663412, 0.1221451987099544, 0),\n",
              " (0.4038168813160405, 1.013520834389509, 0),\n",
              " (-0.2215482219531966, 0.7389380751988444, 0),\n",
              " (1.1596698066033873, -0.09716454005611275, 1),\n",
              " (-0.40274261410866447, 0.8871674113726836, 0),\n",
              " (-1.0084506022629938, 0.3218270990349447, 0),\n",
              " (-1.4907891092467616, -1.4784977936657526, 0),\n",
              " (0.7743006806875912, -0.9300281107728381, 1),\n",
              " (-0.04389392168951034, 0.761884893130971, 0),\n",
              " (0.65165543521932, -0.34278429165371255, 1),\n",
              " (-0.6094948971962785, -0.20151863174699755, 0),\n",
              " (-1.1877282954512083, 0.2930488112163782, 0),\n",
              " (0.536190804563894, 0.16576916248826945, 0),\n",
              " (0.9228683298116319, 0.3562597118030911, 0),\n",
              " (-0.9311310364594901, 0.8097102835887521, 0),\n",
              " (1.580440318676896, 2.2630367252513865, 0),\n",
              " (-1.1024530788791613, -1.0656845372328696, 0),\n",
              " (-0.9549741581811928, 0.5312157479197761, 0),\n",
              " (1.1544120100332578, 0.7169267319148048, 0),\n",
              " (1.3323292478625899, 1.209533194632205, 0),\n",
              " (0.40483872934507376, -0.29720267166886083, 1),\n",
              " (-0.7855004274693677, -1.003765086653076, 0),\n",
              " (1.2504266995347135, -0.7198720824119282, 1),\n",
              " (-1.2865266519110026, -1.1472784586787614, 0),\n",
              " (-1.6132329034122301, 0.7218064534448018, 0),\n",
              " (0.8160073513260399, 0.49719434880866786, 0),\n",
              " (-0.4447418310538241, -0.962731930314092, 0),\n",
              " (-0.2848361634779956, -0.09257674417279063, 0),\n",
              " (0.5650079429390948, -0.20813337198181311, 1),\n",
              " (-0.19762459466752785, -0.7947983015863913, 0),\n",
              " (0.6852021459715697, -0.5232608962196518, 1),\n",
              " (-0.6562380207166566, 0.4055741350713775, 0),\n",
              " (-0.8233456906303138, 0.32426801517537074, 0),\n",
              " (2.3280105366551513, 1.4407956498935737, 0),\n",
              " (0.3488771068083916, -0.8611398323587939, 1),\n",
              " (0.5369815974407256, 1.2534814123934908, 0),\n",
              " (1.3059724187488204, -0.3070928368594722, 1),\n",
              " (0.8080911773244026, 2.2719636561209446, 0),\n",
              " (0.17762165641686203, -0.5536714901622031, 1),\n",
              " (-0.8351133896163536, -0.5854866407458915, 0),\n",
              " (-0.5339780191251785, -0.41912305721414483, 0),\n",
              " (-1.1997703078031818, 0.5297543119194111, 0),\n",
              " (0.04742227943835077, -0.45187116311441794, 1),\n",
              " (-0.5102231180521929, -0.8503052939324557, 0),\n",
              " (-0.0017692407122611, 1.0409386926208102, 0),\n",
              " (0.9030986867518968, -1.2568445352974593, 1),\n",
              " (-0.4593525973999451, -1.2879588698752353, 0),\n",
              " (-1.2826172919088568, -0.5829514362289634, 0),\n",
              " (0.7350411963962813, -0.16274429690674963, 1),\n",
              " (-0.0028369987625772404, 1.0078027613535363, 0),\n",
              " (-0.238263505982328, 1.4194465873567945, 0),\n",
              " (0.09624623579800491, -0.3039548862349039, 1),\n",
              " (-0.4188308867881948, 0.14951685032114492, 0),\n",
              " (0.990834331970813, 0.3580500333511317, 0),\n",
              " (0.09489070930971981, -0.7045845444370704, 1),\n",
              " (1.5614916170172544, 2.6697684336258063, 0),\n",
              " (-2.202735832244436, -0.02890663250881259, 0),\n",
              " (-1.1051876514346148, -0.38315306477904326, 0),\n",
              " (0.5485646075060233, 0.64439261429444, 0),\n",
              " (0.9930995070496527, -1.5640463676681806, 1),\n",
              " (-0.9545313306892901, -0.3015311628554511, 0),\n",
              " (-1.0475934794806585, -1.1464460226611355, 0),\n",
              " (0.18798859412783755, 0.2925196073774591, 0),\n",
              " (-0.5328430856616087, -0.9791372169063951, 0),\n",
              " (0.10243550435539131, 0.02641050713057573, 0),\n",
              " (0.20622454058926606, 1.242663578652134, 0),\n",
              " (-0.1912392774665142, 1.2677932976051562, 0),\n",
              " (-1.9599984747887265, 0.24811646438354712, 0),\n",
              " (-0.07421962608110456, -0.27096361632217203, 0),\n",
              " (1.185632217480524, -0.5345208073836657, 1),\n",
              " (1.675676479139201, 1.4034228323968851, 0),\n",
              " (1.3868761144957313, -2.0446039296957315, 1),\n",
              " (-0.8210896257994024, -0.5321712443855897, 0),\n",
              " (0.9146276651583558, 0.2690683369271782, 0),\n",
              " (1.56054336043647, -0.4378882128524563, 1),\n",
              " (0.29446695610272816, 0.5215899863157584, 0),\n",
              " (-0.24743022717511615, 1.1798075839264925, 0),\n",
              " (-0.05923341688224676, -1.409371014864583, 0),\n",
              " (-0.06558691628084005, 0.3916299266329489, 0),\n",
              " (1.7528788973749565, -0.524538763398798, 1),\n",
              " (0.9424593925166501, 1.7805951893998682, 0),\n",
              " (1.5110717329512304, 2.22923227429251, 0),\n",
              " (0.66462202563594, -0.40164339968833196, 1),\n",
              " (-1.2315471343651607, -0.42590504321609723, 0),\n",
              " (-0.1513490333059638, -2.5219790501254375, 0),\n",
              " (-0.8727361580136886, -0.25908388002922206, 0),\n",
              " (-0.39228818272939514, 1.9922159322825856, 0),\n",
              " (-0.9178305428871083, -0.07011485727328187, 0),\n",
              " (0.09462540561231197, 1.2598681215940521, 0),\n",
              " (2.1356771273532593, -0.7047095366781003, 1),\n",
              " (-1.112501698420877, -0.5804447644723255, 0),\n",
              " (-0.3287748251175409, 0.8000027068516936, 0),\n",
              " (-1.0342174440643677, 0.460763615881311, 0),\n",
              " (-0.4230911656982708, 0.5756071346046823, 0),\n",
              " (-0.1921762304852423, 0.10527453690714102, 0),\n",
              " (0.23796182348856418, -1.0515048943018632, 1),\n",
              " (-0.43715698024871036, 0.42215444163784854, 0),\n",
              " (-0.2556258985162049, 0.17418048842748451, 0),\n",
              " (0.08062490227196567, 0.14267421366299443, 0),\n",
              " (-1.0613522621149263, 0.3739007714098705, 0),\n",
              " (-1.3292844301818303, 0.8361702014312198, 0),\n",
              " (0.12067512251123999, -0.08349665218959729, 1),\n",
              " (-0.14804654098277253, 1.8271526552244797, 0),\n",
              " (-0.16513768544292082, 0.12973645637525497, 0),\n",
              " (-0.15424881051551595, -1.372164107610952, 0),\n",
              " (2.1238899713042456, 0.11876159885792235, 0),\n",
              " (-1.3028171336091572, -0.699779654022951, 0),\n",
              " (-0.556778413171582, 0.5679920225614329, 0),\n",
              " (0.4785997761762782, 0.3475089096906013, 0),\n",
              " (-1.077332440700092, -0.8323113296685858, 0)]"
            ]
          },
          "metadata": {
            "tags": []
          },
          "execution_count": 4
        }
      ]
    },
    {
      "metadata": {
        "id": "RjrH_eHDhK_h",
        "colab_type": "code",
        "colab": {}
      },
      "cell_type": "code",
      "source": [
        ""
      ],
      "execution_count": 0,
      "outputs": []
    },
    {
      "metadata": {
        "id": "bYGkRN_TR0ou",
        "colab_type": "text"
      },
      "cell_type": "markdown",
      "source": [
        "### Deep NN"
      ]
    },
    {
      "metadata": {
        "id": "q4D272jEZvtr",
        "colab_type": "code",
        "colab": {}
      },
      "cell_type": "code",
      "source": [
        "import numpy as np"
      ],
      "execution_count": 0,
      "outputs": []
    },
    {
      "metadata": {
        "id": "f0dpOROpR2fr",
        "colab_type": "code",
        "colab": {}
      },
      "cell_type": "code",
      "source": [
        "def initialize_weights(layer_dims):\n",
        "  parameters = {}\n",
        "  L = len(layer_dims)            # number of layers in the network\n",
        "  for l in range(1, L):\n",
        "    parameters['W' + str(l)] = np.random.randn(layer_dims[l], layer_dims[l-1])*0.01\n",
        "  return parameters\n",
        "\n",
        "\n",
        "def sigmoid(x):\n",
        "  return 1 / (1 + np.exp(-x))  \n",
        "\n",
        "\n",
        "def linear_activation_forward(X, W):\n",
        "  Z = np.dot(W, X)\n",
        "  A = sigmoid(Z)\n",
        "  return A\n",
        "  \n",
        "  \n",
        "def NN_model_forward(X, parameters):\n",
        "  A = X\n",
        "  L = len(parameters)                # number of layers in the neural network    \n",
        "  for l in range(1, L-1):\n",
        "    A = linear_activation_forward(A, parameters['W' + str(l)])            \n",
        "  return A  "
      ],
      "execution_count": 0,
      "outputs": []
    },
    {
      "metadata": {
        "id": "8cJdjaWkYnd5",
        "colab_type": "code",
        "colab": {}
      },
      "cell_type": "code",
      "source": [
        "X = [0.2, 0.4, 0.8, 0.1]\n",
        "Y = [0, 0, 1, 1]"
      ],
      "execution_count": 0,
      "outputs": []
    },
    {
      "metadata": {
        "id": "R8h0h1nXSYVf",
        "colab_type": "code",
        "colab": {}
      },
      "cell_type": "code",
      "source": [
        "layers_dims = [4, 4, 2, 1] # layer_dims = [input, hidden_layers, output]\n",
        "weights = initialize_weights(layers_dims)\n",
        "output = NN_model_forward(X, weights)"
      ],
      "execution_count": 0,
      "outputs": []
    },
    {
      "metadata": {
        "id": "_OGzpYu2aFXI",
        "colab_type": "code",
        "colab": {
          "base_uri": "https://localhost:8080/",
          "height": 136
        },
        "outputId": "37bb089b-53e4-4131-bef7-47a748d91a9a"
      },
      "cell_type": "code",
      "source": [
        "weights"
      ],
      "execution_count": 19,
      "outputs": [
        {
          "output_type": "execute_result",
          "data": {
            "text/plain": [
              "{'W1': array([[ 0.00386489,  0.00053508, -0.00779781,  0.00701578],\n",
              "        [-0.00087372, -0.0114256 , -0.00938531,  0.00108861],\n",
              "        [-0.02668529, -0.00517235,  0.0053161 ,  0.00270938],\n",
              "        [ 0.0164465 , -0.01028729, -0.01499277,  0.00406867]]),\n",
              " 'W2': array([[-0.01382752, -0.01412798,  0.01223027, -0.00777453],\n",
              "        [ 0.01315424, -0.01456063,  0.00135374,  0.00732651]]),\n",
              " 'W3': array([[-0.00682105, -0.01564568]])}"
            ]
          },
          "metadata": {
            "tags": []
          },
          "execution_count": 19
        }
      ]
    },
    {
      "metadata": {
        "id": "ra8ZJ1lSZsLv",
        "colab_type": "code",
        "colab": {
          "base_uri": "https://localhost:8080/",
          "height": 34
        },
        "outputId": "9afd4598-c204-427f-f8f0-6b24f3e734a0"
      },
      "cell_type": "code",
      "source": [
        "output"
      ],
      "execution_count": 22,
      "outputs": [
        {
          "output_type": "execute_result",
          "data": {
            "text/plain": [
              "array([0.50215438, 0.50369197, 0.50223031, 0.49798179])"
            ]
          },
          "metadata": {
            "tags": []
          },
          "execution_count": 22
        }
      ]
    },
    {
      "metadata": {
        "id": "ATeJ0RVyagDr",
        "colab_type": "code",
        "colab": {}
      },
      "cell_type": "code",
      "source": [
        ""
      ],
      "execution_count": 0,
      "outputs": []
    }
  ]
}