{
  "nbformat": 4,
  "nbformat_minor": 0,
  "metadata": {
    "colab": {
      "name": "MachineLearningLab02.ipynb",
      "version": "0.3.2",
      "provenance": [],
      "collapsed_sections": [
        "wBebEZ6fik6F",
        "OZtsyigNqbVH"
      ]
    },
    "kernelspec": {
      "name": "python3",
      "display_name": "Python 3"
    }
  },
  "cells": [
    {
      "metadata": {
        "id": "7sQ4mXrjxFzj",
        "colab_type": "text"
      },
      "cell_type": "markdown",
      "source": [
        "## Machine learning\n",
        "\n",
        "\n",
        "*   Lab 02 - 12.10.2018\n",
        "*   Lab 03\n",
        "\n"
      ]
    },
    {
      "metadata": {
        "id": "SXHEITv1fpWM",
        "colab_type": "code",
        "colab": {}
      },
      "cell_type": "code",
      "source": [
        "import numpy as np "
      ],
      "execution_count": 0,
      "outputs": []
    },
    {
      "metadata": {
        "id": "wBebEZ6fik6F",
        "colab_type": "text"
      },
      "cell_type": "markdown",
      "source": [
        "### Sample file"
      ]
    },
    {
      "metadata": {
        "id": "Nif6GMXDgZZ7",
        "colab_type": "code",
        "outputId": "aefa81a2-2470-4317-dbcc-070023e87875",
        "colab": {
          "base_uri": "https://localhost:8080/",
          "height": 351
        }
      },
      "cell_type": "code",
      "source": [
        "import numpy as np\n",
        "import matplotlib.pyplot as plt\n",
        "import math\n",
        "\n",
        "def sigma(x):\n",
        "    return 1 / (1 + math.exp( -x ))\n",
        "\n",
        "def getFakeNeuralNetOutput(x, y):\n",
        "    firstLayerNeuron1 = sigma(x + 0.01 * y)\n",
        "    firstLayerNeuron2 = sigma(0.01 * x + y)\n",
        "    outputLayer1 = sigma( firstLayerNeuron1 -  firstLayerNeuron2 + 0.3)\n",
        "    outputLayer2 = sigma(-  firstLayerNeuron1 + firstLayerNeuron2 - 0.3)\n",
        "    return [outputLayer1, outputLayer2]\n",
        "\n",
        "def getDecisionOfFakeNeuralNet(x, y):\n",
        "    output = getFakeNeuralNetOutput(x, y)\n",
        "    return 1 if output[1] > output[0] else 0\n",
        "\n",
        "def getSamples(N):\n",
        "    samples = []\n",
        "    for i in range(N):\n",
        "        x = np.random.normal()\n",
        "        y = np.random.normal()\n",
        "        which = 1 if x > 0 and y < 0 else 0\n",
        "        samples.append( (x, y, which) )\n",
        "    return samples\n",
        "\n",
        "def plotDecisionDomain(listOfX, listOfY, decisionFunction):\n",
        "    arrayOfX, arrayOfY = np.meshgrid(listOfX, listOfY)\n",
        "    plt.contourf(arrayOfX, arrayOfY, [[decisionFunction(x, y) for y in listOfY] for x in listOfX])\n",
        "\n",
        "def plotSamples(samples):\n",
        "    markers = ['o', 'x']\n",
        "    colors = ['red', 'gray']\n",
        "    for sample in samples:\n",
        "        plt.scatter(sample[0], sample[1],\n",
        "                    marker = markers[sample[2]], color = colors[sample[2]],\n",
        "                    alpha = 0.5)\n",
        "\n",
        "def getGrid(view):\n",
        "    return [view[0] + (view[1] - view[0]) * i / (view[2] - 1) for i in range(view[2])]\n",
        "\n",
        "numberOfSamples = 300\n",
        "samples = getSamples(numberOfSamples)\n",
        "\n",
        "viewX = [-4, 4, 101]\n",
        "viewY = [-4, 4, 101]\n",
        "\n",
        "plotDecisionDomain(getGrid(viewX), getGrid(viewY), getDecisionOfFakeNeuralNet)\n",
        "plotSamples(samples)\n",
        "plt.show()\n"
      ],
      "execution_count": 0,
      "outputs": [
        {
          "output_type": "display_data",
          "data": {
            "image/png": "[encoded data removed]",
            "text/plain": [
              "<matplotlib.figure.Figure at 0x7fbe7efcb5c0>"
            ]
          },
          "metadata": {
            "tags": []
          }
        }
      ]
    },
    {
      "metadata": {
        "id": "OZtsyigNqbVH",
        "colab_type": "text"
      },
      "cell_type": "markdown",
      "source": [
        "#### Testing np dot"
      ]
    },
    {
      "metadata": {
        "id": "ATeJ0RVyagDr",
        "colab_type": "code",
        "colab": {}
      },
      "cell_type": "code",
      "source": [
        "w = np.random.randint(10, size=(2,5))"
      ],
      "execution_count": 0,
      "outputs": []
    },
    {
      "metadata": {
        "id": "T1tHZ-23pmMM",
        "colab_type": "code",
        "outputId": "a07238f8-b632-4288-a047-fb6973737901",
        "colab": {
          "base_uri": "https://localhost:8080/",
          "height": 51
        }
      },
      "cell_type": "code",
      "source": [
        "w"
      ],
      "execution_count": 0,
      "outputs": [
        {
          "output_type": "execute_result",
          "data": {
            "text/plain": [
              "array([[6, 0, 9, 9, 9],\n",
              "       [5, 1, 5, 1, 9]])"
            ]
          },
          "metadata": {
            "tags": []
          },
          "execution_count": 26
        }
      ]
    },
    {
      "metadata": {
        "id": "8bGL4yQJppYF",
        "colab_type": "code",
        "colab": {}
      },
      "cell_type": "code",
      "source": [
        "X=[1,2,3,4,5]"
      ],
      "execution_count": 0,
      "outputs": []
    },
    {
      "metadata": {
        "id": "ewqkOqIFptOH",
        "colab_type": "code",
        "outputId": "4893b611-12c5-44d6-aeb0-8d7494facba5",
        "colab": {
          "base_uri": "https://localhost:8080/",
          "height": 34
        }
      },
      "cell_type": "code",
      "source": [
        "np.dot(w,X)"
      ],
      "execution_count": 0,
      "outputs": [
        {
          "output_type": "execute_result",
          "data": {
            "text/plain": [
              "array([114,  71])"
            ]
          },
          "metadata": {
            "tags": []
          },
          "execution_count": 28
        }
      ]
    },
    {
      "metadata": {
        "id": "aVyXhS11pv-C",
        "colab_type": "code",
        "outputId": "cfd540d0-ddbb-4bc5-fb29-b893f55fa72a",
        "colab": {
          "base_uri": "https://localhost:8080/",
          "height": 34
        }
      },
      "cell_type": "code",
      "source": [
        "np.sum(w*X, axis=1)"
      ],
      "execution_count": 0,
      "outputs": [
        {
          "output_type": "execute_result",
          "data": {
            "text/plain": [
              "array([114,  71])"
            ]
          },
          "metadata": {
            "tags": []
          },
          "execution_count": 31
        }
      ]
    },
    {
      "metadata": {
        "id": "bb4fb0ixqkcB",
        "colab_type": "text"
      },
      "cell_type": "markdown",
      "source": [
        "### Basic Neural Network model"
      ]
    },
    {
      "metadata": {
        "id": "URP68s25wUD0",
        "colab_type": "code",
        "colab": {}
      },
      "cell_type": "code",
      "source": [
        "def initialize_weights(layer_dims):\n",
        "  parameters = {}\n",
        "  L = len(layer_dims)            # number of layers in the network\n",
        "  for l in range(1, L):\n",
        "    parameters['W' + str(l)] = np.random.randn(layer_dims[l], layer_dims[l-1])*0.01\n",
        "  return parameters\n",
        "\n",
        "\n",
        "def sigmoid(x):\n",
        "  return 1 / (1 + np.exp(-x))  \n",
        "\n",
        "  \n",
        "def NN_model_forward(X, parameters):\n",
        "  cache = {}\n",
        "  A = X.copy()\n",
        "  A.append(-1)                       # add bias \n",
        "  L = len(parameters)                # number of layers in the neural network  \n",
        "  for l in range(1, L+1):\n",
        "    cache['A' + str(l)] = A\n",
        "    W = parameters['W' + str(l)] \n",
        "    Z = np.dot(W, A)# current layer weights\n",
        "    A = sigmoid(Z)\n",
        "    cache['Z' + str(l)] = A\n",
        "    \n",
        "  return A, Z\n",
        "\n",
        "\n",
        "def cost_function(output,target):\n",
        "  return 1/len(target)*np.sum((output-target)**2)\n",
        "\n",
        "\n",
        "def update_parametes(L, lerning_rate):\n",
        "  parameters = {}\n",
        "  for l in range(1, L+1):\n",
        "    parameters['W' + str(l)] = parameters['W' + str(l)] - learning_rate * gradients['dW' + str(l)]\n",
        "  return parameters\n",
        "\n",
        "\n",
        "def backward_propagation(L,cache):\n",
        "  gradients = {}\n",
        "  for l in reversed(range(L)):\n",
        "    dZ = sigmoid(x)(1-sigmoid(x))\n",
        "    gradients['dW'+str(l)] = \n",
        "  \n",
        "  return gradients\n"
      ],
      "execution_count": 0,
      "outputs": []
    },
    {
      "metadata": {
        "id": "4B-MP9OBr0ir",
        "colab_type": "code",
        "colab": {}
      },
      "cell_type": "code",
      "source": [
        "X = [0.2, 0.4, 0.8, 0.1]\n",
        "Y = [1,0]\n",
        "\n",
        "layers_dims = [len(X)+1, 2, 2] # layer_dims = [input, hidden_layers, output]\n",
        "weights = initialize_weights(layers_dims)\n",
        "output = NN_model_forward(X, weights)"
      ],
      "execution_count": 0,
      "outputs": []
    },
    {
      "metadata": {
        "id": "tLuWDeWIr4cQ",
        "colab_type": "code",
        "outputId": "f5dd1d26-f228-4567-ab73-950072f45890",
        "colab": {
          "base_uri": "https://localhost:8080/",
          "height": 35
        }
      },
      "cell_type": "code",
      "source": [
        ""
      ],
      "execution_count": 21,
      "outputs": [
        {
          "output_type": "execute_result",
          "data": {
            "text/plain": [
              "[9, 8, 7, 6, 5, 4, 3, 2, 1, 0]"
            ]
          },
          "metadata": {
            "tags": []
          },
          "execution_count": 21
        }
      ]
    },
    {
      "metadata": {
        "id": "CCPI_wNlotBl",
        "colab_type": "text"
      },
      "cell_type": "markdown",
      "source": [
        "## Mnist dataset"
      ]
    },
    {
      "metadata": {
        "id": "t7O-kO6oovhM",
        "colab_type": "text"
      },
      "cell_type": "markdown",
      "source": [
        ""
      ]
    },
    {
      "metadata": {
        "id": "Otm3lsjrowP0",
        "colab_type": "code",
        "colab": {}
      },
      "cell_type": "code",
      "source": [
        "!pip install mnist"
      ],
      "execution_count": 0,
      "outputs": []
    },
    {
      "metadata": {
        "id": "rjIs3_0cnd0p",
        "colab_type": "code",
        "colab": {}
      },
      "cell_type": "code",
      "source": [
        "import mnist\n",
        "import scipy.misc\n",
        "\n",
        "train_images = mnist.train_images()\n",
        "train_labels = mnist.train_labels()\n",
        "\n",
        "test_images = mnist.test_images()\n",
        "test_labels = mnist.test_labels()"
      ],
      "execution_count": 0,
      "outputs": []
    },
    {
      "metadata": {
        "id": "vbkvsvGRozFN",
        "colab_type": "code",
        "colab": {
          "base_uri": "https://localhost:8080/",
          "height": 390
        },
        "outputId": "d350f779-e24d-4971-c4f3-501b5e0317fe"
      },
      "cell_type": "code",
      "source": [
        "scipy.misc.toimage(scipy.misc.imresize(train_images[0,:,:] * -1 + 256, 10.))"
      ],
      "execution_count": 15,
      "outputs": [
        {
          "output_type": "stream",
          "text": [
            "/usr/local/lib/python3.6/dist-packages/scipy/misc/pilutil.py:482: FutureWarning: Conversion of the second argument of issubdtype from `int` to `np.signedinteger` is deprecated. In future, it will be treated as `np.int64 == np.dtype(int).type`.\n",
            "  if issubdtype(ts, int):\n",
            "/usr/local/lib/python3.6/dist-packages/scipy/misc/pilutil.py:485: FutureWarning: Conversion of the second argument of issubdtype from `float` to `np.floating` is deprecated. In future, it will be treated as `np.float64 == np.dtype(float).type`.\n",
            "  elif issubdtype(type(size), float):\n"
          ],
          "name": "stderr"
        },
        {
          "output_type": "execute_result",
          "data": {
            "image/png": "[encoded data removed]",
            "text/plain": [
              "<PIL.Image.Image image mode=L size=280x280 at 0x7FD5D4E18780>"
            ]
          },
          "metadata": {
            "tags": []
          },
          "execution_count": 15
        }
      ]
    },
    {
      "metadata": {
        "id": "y4eTBSe5pE3C",
        "colab_type": "code",
        "colab": {
          "base_uri": "https://localhost:8080/",
          "height": 35
        },
        "outputId": "6cbd7a07-320b-43ab-963a-10d985bd067b"
      },
      "cell_type": "code",
      "source": [
        "train_images.shape"
      ],
      "execution_count": 16,
      "outputs": [
        {
          "output_type": "execute_result",
          "data": {
            "text/plain": [
              "(60000, 28, 28)"
            ]
          },
          "metadata": {
            "tags": []
          },
          "execution_count": 16
        }
      ]
    },
    {
      "metadata": {
        "id": "vequQ0bUo4eb",
        "colab_type": "code",
        "colab": {}
      },
      "cell_type": "code",
      "source": [
        "x = train_images.reshape((train_images.shape[0], train_images.shape[1] * train_images.shape[2]))"
      ],
      "execution_count": 0,
      "outputs": []
    },
    {
      "metadata": {
        "id": "lzXuOEYFpJZ_",
        "colab_type": "code",
        "colab": {
          "base_uri": "https://localhost:8080/",
          "height": 35
        },
        "outputId": "d2b75495-b7e8-4949-fb09-03d6dfb94174"
      },
      "cell_type": "code",
      "source": [
        "train_images.shape"
      ],
      "execution_count": 19,
      "outputs": [
        {
          "output_type": "execute_result",
          "data": {
            "text/plain": [
              "(60000, 28, 28)"
            ]
          },
          "metadata": {
            "tags": []
          },
          "execution_count": 19
        }
      ]
    },
    {
      "metadata": {
        "id": "S5kudy_RpON1",
        "colab_type": "code",
        "colab": {}
      },
      "cell_type": "code",
      "source": [
        ""
      ],
      "execution_count": 0,
      "outputs": []
    }
  ]
}