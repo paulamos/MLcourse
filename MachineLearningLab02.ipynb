{
  "nbformat": 4,
  "nbformat_minor": 0,
  "metadata": {
    "colab": {
      "name": "MachineLearningLab02.ipynb",
      "version": "0.3.2",
      "provenance": [],
      "collapsed_sections": [
        "wBebEZ6fik6F",
        "OZtsyigNqbVH"
      ]
    },
    "kernelspec": {
      "name": "python3",
      "display_name": "Python 3"
    }
  },
  "cells": [
    {
      "metadata": {
        "id": "7sQ4mXrjxFzj",
        "colab_type": "text"
      },
      "cell_type": "markdown",
      "source": [
        "## Machine learning\n",
        "\n",
        "\n",
        "*   Lab 02 - 12.10.2018\n",
        "*   Lab 03\n",
        "\n"
      ]
    },
    {
      "metadata": {
        "id": "SXHEITv1fpWM",
        "colab_type": "code",
        "colab": {}
      },
      "cell_type": "code",
      "source": [
        "import numpy as np "
      ],
      "execution_count": 0,
      "outputs": []
    },
    {
      "metadata": {
        "id": "wBebEZ6fik6F",
        "colab_type": "text"
      },
      "cell_type": "markdown",
      "source": [
        "### Sample file"
      ]
    },
    {
      "metadata": {
        "id": "Nif6GMXDgZZ7",
        "colab_type": "code",
        "colab": {
          "base_uri": "https://localhost:8080/",
          "height": 351
        },
        "outputId": "aefa81a2-2470-4317-dbcc-070023e87875"
      },
      "cell_type": "code",
      "source": [
        "import numpy as np\n",
        "import matplotlib.pyplot as plt\n",
        "import math\n",
        "\n",
        "def sigma(x):\n",
        "    return 1 / (1 + math.exp( -x ))\n",
        "\n",
        "def getFakeNeuralNetOutput(x, y):\n",
        "    firstLayerNeuron1 = sigma(x + 0.01 * y)\n",
        "    firstLayerNeuron2 = sigma(0.01 * x + y)\n",
        "    outputLayer1 = sigma( firstLayerNeuron1 -  firstLayerNeuron2 + 0.3)\n",
        "    outputLayer2 = sigma(-  firstLayerNeuron1 + firstLayerNeuron2 - 0.3)\n",
        "    return [outputLayer1, outputLayer2]\n",
        "\n",
        "def getDecisionOfFakeNeuralNet(x, y):\n",
        "    output = getFakeNeuralNetOutput(x, y)\n",
        "    return 1 if output[1] > output[0] else 0\n",
        "\n",
        "def getSamples(N):\n",
        "    samples = []\n",
        "    for i in range(N):\n",
        "        x = np.random.normal()\n",
        "        y = np.random.normal()\n",
        "        which = 1 if x > 0 and y < 0 else 0\n",
        "        samples.append( (x, y, which) )\n",
        "    return samples\n",
        "\n",
        "def plotDecisionDomain(listOfX, listOfY, decisionFunction):\n",
        "    arrayOfX, arrayOfY = np.meshgrid(listOfX, listOfY)\n",
        "    plt.contourf(arrayOfX, arrayOfY, [[decisionFunction(x, y) for y in listOfY] for x in listOfX])\n",
        "\n",
        "def plotSamples(samples):\n",
        "    markers = ['o', 'x']\n",
        "    colors = ['red', 'gray']\n",
        "    for sample in samples:\n",
        "        plt.scatter(sample[0], sample[1],\n",
        "                    marker = markers[sample[2]], color = colors[sample[2]],\n",
        "                    alpha = 0.5)\n",
        "\n",
        "def getGrid(view):\n",
        "    return [view[0] + (view[1] - view[0]) * i / (view[2] - 1) for i in range(view[2])]\n",
        "\n",
        "numberOfSamples = 300\n",
        "samples = getSamples(numberOfSamples)\n",
        "\n",
        "viewX = [-4, 4, 101]\n",
        "viewY = [-4, 4, 101]\n",
        "\n",
        "plotDecisionDomain(getGrid(viewX), getGrid(viewY), getDecisionOfFakeNeuralNet)\n",
        "plotSamples(samples)\n",
        "plt.show()\n"
      ],
      "execution_count": 3,
      "outputs": [
        {
          "output_type": "display_data",
          "data": {
            "image/png": "[encoded data removed]",
            "text/plain": [
              "<matplotlib.figure.Figure at 0x7fbe7efcb5c0>"
            ]
          },
          "metadata": {
            "tags": []
          }
        }
      ]
    },
    {
      "metadata": {
        "id": "OZtsyigNqbVH",
        "colab_type": "text"
      },
      "cell_type": "markdown",
      "source": [
        "#### Testing np dot"
      ]
    },
    {
      "metadata": {
        "id": "ATeJ0RVyagDr",
        "colab_type": "code",
        "colab": {}
      },
      "cell_type": "code",
      "source": [
        "w = np.random.randint(10, size=(2,5))"
      ],
      "execution_count": 0,
      "outputs": []
    },
    {
      "metadata": {
        "id": "T1tHZ-23pmMM",
        "colab_type": "code",
        "colab": {
          "base_uri": "https://localhost:8080/",
          "height": 51
        },
        "outputId": "a07238f8-b632-4288-a047-fb6973737901"
      },
      "cell_type": "code",
      "source": [
        "w"
      ],
      "execution_count": 26,
      "outputs": [
        {
          "output_type": "execute_result",
          "data": {
            "text/plain": [
              "array([[6, 0, 9, 9, 9],\n",
              "       [5, 1, 5, 1, 9]])"
            ]
          },
          "metadata": {
            "tags": []
          },
          "execution_count": 26
        }
      ]
    },
    {
      "metadata": {
        "id": "8bGL4yQJppYF",
        "colab_type": "code",
        "colab": {}
      },
      "cell_type": "code",
      "source": [
        "X=[1,2,3,4,5]"
      ],
      "execution_count": 0,
      "outputs": []
    },
    {
      "metadata": {
        "id": "ewqkOqIFptOH",
        "colab_type": "code",
        "colab": {
          "base_uri": "https://localhost:8080/",
          "height": 34
        },
        "outputId": "4893b611-12c5-44d6-aeb0-8d7494facba5"
      },
      "cell_type": "code",
      "source": [
        "np.dot(w,X)"
      ],
      "execution_count": 28,
      "outputs": [
        {
          "output_type": "execute_result",
          "data": {
            "text/plain": [
              "array([114,  71])"
            ]
          },
          "metadata": {
            "tags": []
          },
          "execution_count": 28
        }
      ]
    },
    {
      "metadata": {
        "id": "aVyXhS11pv-C",
        "colab_type": "code",
        "colab": {
          "base_uri": "https://localhost:8080/",
          "height": 34
        },
        "outputId": "cfd540d0-ddbb-4bc5-fb29-b893f55fa72a"
      },
      "cell_type": "code",
      "source": [
        "np.sum(w*X, axis=1)"
      ],
      "execution_count": 31,
      "outputs": [
        {
          "output_type": "execute_result",
          "data": {
            "text/plain": [
              "array([114,  71])"
            ]
          },
          "metadata": {
            "tags": []
          },
          "execution_count": 31
        }
      ]
    },
    {
      "metadata": {
        "id": "bb4fb0ixqkcB",
        "colab_type": "text"
      },
      "cell_type": "markdown",
      "source": [
        "### Basic Neural Network model"
      ]
    },
    {
      "metadata": {
        "id": "URP68s25wUD0",
        "colab_type": "code",
        "colab": {}
      },
      "cell_type": "code",
      "source": [
        "def initialize_weights(layer_dims):\n",
        "  parameters = {}\n",
        "  L = len(layer_dims)            # number of layers in the network\n",
        "  for l in range(1, L):\n",
        "    parameters['W' + str(l)] = np.random.randn(layer_dims[l], layer_dims[l-1])*0.01\n",
        "  return parameters\n",
        "\n",
        "\n",
        "def sigmoid(x):\n",
        "  return 1 / (1 + np.exp(-x))  \n",
        "\n",
        "  \n",
        "def NN_model_forward(X, parameters):\n",
        "  A = X.copy()\n",
        "  A.append(-1)                       # add bias \n",
        "  L = len(parameters)                # number of layers in the neural network  \n",
        "  for l in range(1, L+1):\n",
        "    W = parameters['W' + str(l)]     # current layer weights\n",
        "    A = sigmoid(np.dot(W, A))          \n",
        "  return A"
      ],
      "execution_count": 0,
      "outputs": []
    },
    {
      "metadata": {
        "id": "4B-MP9OBr0ir",
        "colab_type": "code",
        "colab": {}
      },
      "cell_type": "code",
      "source": [
        "X = [0.2, 0.4, 0.8, 0.1]\n",
        "Y = [0, 0, 1, 1]\n",
        "\n",
        "layers_dims = [len(X)+1, 2, 1] # layer_dims = [input, hidden_layers, output]\n",
        "weights = initialize_weights(layers_dims)\n",
        "output = NN_model_forward(X, weights)"
      ],
      "execution_count": 0,
      "outputs": []
    },
    {
      "metadata": {
        "id": "tLuWDeWIr4cQ",
        "colab_type": "code",
        "colab": {
          "base_uri": "https://localhost:8080/",
          "height": 34
        },
        "outputId": "2174dfd2-a926-4479-9c35-982944262013"
      },
      "cell_type": "code",
      "source": [
        "output"
      ],
      "execution_count": 104,
      "outputs": [
        {
          "output_type": "execute_result",
          "data": {
            "text/plain": [
              "array([0.50031413])"
            ]
          },
          "metadata": {
            "tags": []
          },
          "execution_count": 104
        }
      ]
    },
    {
      "metadata": {
        "id": "2Y42_aOcwvQi",
        "colab_type": "code",
        "colab": {}
      },
      "cell_type": "code",
      "source": [
        ""
      ],
      "execution_count": 0,
      "outputs": []
    }
  ]
}